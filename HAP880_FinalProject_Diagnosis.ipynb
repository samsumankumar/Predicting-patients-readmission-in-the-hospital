{
 "cells": [
  {
   "cell_type": "code",
   "execution_count": 185,
   "metadata": {},
   "outputs": [],
   "source": [
    "import time\n",
    "import datetime\n",
    "import numpy as np\n",
    "import pandas as pd\n",
    "import seaborn as sns\n",
    "import missingno as msno\n",
    "import matplotlib.pyplot as plt\n",
    "from sklearn.ensemble import RandomForestClassifier\n",
    "from sklearn.linear_model import LogisticRegression\n",
    "from sklearn.model_selection import cross_val_score, RandomizedSearchCV, train_test_split\n",
    "from sklearn.metrics import roc_curve, roc_auc_score, confusion_matrix, accuracy_score, recall_score, precision_score"
   ]
  },
  {
   "cell_type": "code",
   "execution_count": 3,
   "metadata": {},
   "outputs": [],
   "source": [
    "#conn = sqlite3.connect(r'C:\\Users\\samsu\\Desktop\\Spring 2020\\HAP 880\\Final project\\mimic.db')"
   ]
  },
  {
   "cell_type": "code",
   "execution_count": 159,
   "metadata": {},
   "outputs": [],
   "source": [
    "admissions = pd.read_csv(r'C:\\Users\\samsu\\Desktop\\Spring 2020\\HAP 880\\Final project\\mimic-iii\\ADMISSIONS.csv')"
   ]
  },
  {
   "cell_type": "code",
   "execution_count": 189,
   "metadata": {},
   "outputs": [
    {
     "data": {
      "text/plain": [
       "Index(['ROW_ID', 'SUBJECT_ID', 'HADM_ID', 'ADMITTIME', 'DISCHTIME',\n",
       "       'DEATHTIME', 'ADMISSION_TYPE', 'ADMISSION_LOCATION',\n",
       "       'DISCHARGE_LOCATION', 'INSURANCE', 'LANGUAGE', 'RELIGION',\n",
       "       'MARITAL_STATUS', 'ETHNICITY', 'EDREGTIME', 'EDOUTTIME', 'DIAGNOSIS',\n",
       "       'HOSPITAL_EXPIRE_FLAG', 'HAS_CHARTEVENTS_DATA'],\n",
       "      dtype='object')"
      ]
     },
     "execution_count": 189,
     "metadata": {},
     "output_type": "execute_result"
    }
   ],
   "source": [
    "admissions.columns"
   ]
  },
  {
   "cell_type": "code",
   "execution_count": 6,
   "metadata": {},
   "outputs": [
    {
     "data": {
      "text/html": [
       "<div>\n",
       "<style scoped>\n",
       "    .dataframe tbody tr th:only-of-type {\n",
       "        vertical-align: middle;\n",
       "    }\n",
       "\n",
       "    .dataframe tbody tr th {\n",
       "        vertical-align: top;\n",
       "    }\n",
       "\n",
       "    .dataframe thead th {\n",
       "        text-align: right;\n",
       "    }\n",
       "</style>\n",
       "<table border=\"1\" class=\"dataframe\">\n",
       "  <thead>\n",
       "    <tr style=\"text-align: right;\">\n",
       "      <th></th>\n",
       "      <th>ROW_ID</th>\n",
       "      <th>SUBJECT_ID</th>\n",
       "      <th>HADM_ID</th>\n",
       "      <th>ADMITTIME</th>\n",
       "      <th>DISCHTIME</th>\n",
       "      <th>DEATHTIME</th>\n",
       "      <th>ADMISSION_TYPE</th>\n",
       "      <th>ADMISSION_LOCATION</th>\n",
       "      <th>DISCHARGE_LOCATION</th>\n",
       "      <th>INSURANCE</th>\n",
       "      <th>LANGUAGE</th>\n",
       "      <th>RELIGION</th>\n",
       "      <th>MARITAL_STATUS</th>\n",
       "      <th>ETHNICITY</th>\n",
       "      <th>EDREGTIME</th>\n",
       "      <th>EDOUTTIME</th>\n",
       "      <th>DIAGNOSIS</th>\n",
       "      <th>HOSPITAL_EXPIRE_FLAG</th>\n",
       "      <th>HAS_CHARTEVENTS_DATA</th>\n",
       "    </tr>\n",
       "  </thead>\n",
       "  <tbody>\n",
       "    <tr>\n",
       "      <th>0</th>\n",
       "      <td>21</td>\n",
       "      <td>22</td>\n",
       "      <td>165315</td>\n",
       "      <td>2196-04-09 12:26:00</td>\n",
       "      <td>2196-04-10 15:54:00</td>\n",
       "      <td>NaN</td>\n",
       "      <td>EMERGENCY</td>\n",
       "      <td>EMERGENCY ROOM ADMIT</td>\n",
       "      <td>DISC-TRAN CANCER/CHLDRN H</td>\n",
       "      <td>Private</td>\n",
       "      <td>NaN</td>\n",
       "      <td>UNOBTAINABLE</td>\n",
       "      <td>MARRIED</td>\n",
       "      <td>WHITE</td>\n",
       "      <td>2196-04-09 10:06:00</td>\n",
       "      <td>2196-04-09 13:24:00</td>\n",
       "      <td>BENZODIAZEPINE OVERDOSE</td>\n",
       "      <td>0</td>\n",
       "      <td>1</td>\n",
       "    </tr>\n",
       "    <tr>\n",
       "      <th>1</th>\n",
       "      <td>22</td>\n",
       "      <td>23</td>\n",
       "      <td>152223</td>\n",
       "      <td>2153-09-03 07:15:00</td>\n",
       "      <td>2153-09-08 19:10:00</td>\n",
       "      <td>NaN</td>\n",
       "      <td>ELECTIVE</td>\n",
       "      <td>PHYS REFERRAL/NORMAL DELI</td>\n",
       "      <td>HOME HEALTH CARE</td>\n",
       "      <td>Medicare</td>\n",
       "      <td>NaN</td>\n",
       "      <td>CATHOLIC</td>\n",
       "      <td>MARRIED</td>\n",
       "      <td>WHITE</td>\n",
       "      <td>NaN</td>\n",
       "      <td>NaN</td>\n",
       "      <td>CORONARY ARTERY DISEASE\\CORONARY ARTERY BYPASS...</td>\n",
       "      <td>0</td>\n",
       "      <td>1</td>\n",
       "    </tr>\n",
       "    <tr>\n",
       "      <th>2</th>\n",
       "      <td>23</td>\n",
       "      <td>23</td>\n",
       "      <td>124321</td>\n",
       "      <td>2157-10-18 19:34:00</td>\n",
       "      <td>2157-10-25 14:00:00</td>\n",
       "      <td>NaN</td>\n",
       "      <td>EMERGENCY</td>\n",
       "      <td>TRANSFER FROM HOSP/EXTRAM</td>\n",
       "      <td>HOME HEALTH CARE</td>\n",
       "      <td>Medicare</td>\n",
       "      <td>ENGL</td>\n",
       "      <td>CATHOLIC</td>\n",
       "      <td>MARRIED</td>\n",
       "      <td>WHITE</td>\n",
       "      <td>NaN</td>\n",
       "      <td>NaN</td>\n",
       "      <td>BRAIN MASS</td>\n",
       "      <td>0</td>\n",
       "      <td>1</td>\n",
       "    </tr>\n",
       "    <tr>\n",
       "      <th>3</th>\n",
       "      <td>24</td>\n",
       "      <td>24</td>\n",
       "      <td>161859</td>\n",
       "      <td>2139-06-06 16:14:00</td>\n",
       "      <td>2139-06-09 12:48:00</td>\n",
       "      <td>NaN</td>\n",
       "      <td>EMERGENCY</td>\n",
       "      <td>TRANSFER FROM HOSP/EXTRAM</td>\n",
       "      <td>HOME</td>\n",
       "      <td>Private</td>\n",
       "      <td>NaN</td>\n",
       "      <td>PROTESTANT QUAKER</td>\n",
       "      <td>SINGLE</td>\n",
       "      <td>WHITE</td>\n",
       "      <td>NaN</td>\n",
       "      <td>NaN</td>\n",
       "      <td>INTERIOR MYOCARDIAL INFARCTION</td>\n",
       "      <td>0</td>\n",
       "      <td>1</td>\n",
       "    </tr>\n",
       "    <tr>\n",
       "      <th>4</th>\n",
       "      <td>25</td>\n",
       "      <td>25</td>\n",
       "      <td>129635</td>\n",
       "      <td>2160-11-02 02:06:00</td>\n",
       "      <td>2160-11-05 14:55:00</td>\n",
       "      <td>NaN</td>\n",
       "      <td>EMERGENCY</td>\n",
       "      <td>EMERGENCY ROOM ADMIT</td>\n",
       "      <td>HOME</td>\n",
       "      <td>Private</td>\n",
       "      <td>NaN</td>\n",
       "      <td>UNOBTAINABLE</td>\n",
       "      <td>MARRIED</td>\n",
       "      <td>WHITE</td>\n",
       "      <td>2160-11-02 01:01:00</td>\n",
       "      <td>2160-11-02 04:27:00</td>\n",
       "      <td>ACUTE CORONARY SYNDROME</td>\n",
       "      <td>0</td>\n",
       "      <td>1</td>\n",
       "    </tr>\n",
       "  </tbody>\n",
       "</table>\n",
       "</div>"
      ],
      "text/plain": [
       "   ROW_ID  SUBJECT_ID  HADM_ID            ADMITTIME            DISCHTIME  \\\n",
       "0      21          22   165315  2196-04-09 12:26:00  2196-04-10 15:54:00   \n",
       "1      22          23   152223  2153-09-03 07:15:00  2153-09-08 19:10:00   \n",
       "2      23          23   124321  2157-10-18 19:34:00  2157-10-25 14:00:00   \n",
       "3      24          24   161859  2139-06-06 16:14:00  2139-06-09 12:48:00   \n",
       "4      25          25   129635  2160-11-02 02:06:00  2160-11-05 14:55:00   \n",
       "\n",
       "  DEATHTIME ADMISSION_TYPE         ADMISSION_LOCATION  \\\n",
       "0       NaN      EMERGENCY       EMERGENCY ROOM ADMIT   \n",
       "1       NaN       ELECTIVE  PHYS REFERRAL/NORMAL DELI   \n",
       "2       NaN      EMERGENCY  TRANSFER FROM HOSP/EXTRAM   \n",
       "3       NaN      EMERGENCY  TRANSFER FROM HOSP/EXTRAM   \n",
       "4       NaN      EMERGENCY       EMERGENCY ROOM ADMIT   \n",
       "\n",
       "          DISCHARGE_LOCATION INSURANCE LANGUAGE           RELIGION  \\\n",
       "0  DISC-TRAN CANCER/CHLDRN H   Private      NaN       UNOBTAINABLE   \n",
       "1           HOME HEALTH CARE  Medicare      NaN           CATHOLIC   \n",
       "2           HOME HEALTH CARE  Medicare     ENGL           CATHOLIC   \n",
       "3                       HOME   Private      NaN  PROTESTANT QUAKER   \n",
       "4                       HOME   Private      NaN       UNOBTAINABLE   \n",
       "\n",
       "  MARITAL_STATUS ETHNICITY            EDREGTIME            EDOUTTIME  \\\n",
       "0        MARRIED     WHITE  2196-04-09 10:06:00  2196-04-09 13:24:00   \n",
       "1        MARRIED     WHITE                  NaN                  NaN   \n",
       "2        MARRIED     WHITE                  NaN                  NaN   \n",
       "3         SINGLE     WHITE                  NaN                  NaN   \n",
       "4        MARRIED     WHITE  2160-11-02 01:01:00  2160-11-02 04:27:00   \n",
       "\n",
       "                                           DIAGNOSIS  HOSPITAL_EXPIRE_FLAG  \\\n",
       "0                            BENZODIAZEPINE OVERDOSE                     0   \n",
       "1  CORONARY ARTERY DISEASE\\CORONARY ARTERY BYPASS...                     0   \n",
       "2                                         BRAIN MASS                     0   \n",
       "3                     INTERIOR MYOCARDIAL INFARCTION                     0   \n",
       "4                            ACUTE CORONARY SYNDROME                     0   \n",
       "\n",
       "   HAS_CHARTEVENTS_DATA  \n",
       "0                     1  \n",
       "1                     1  \n",
       "2                     1  \n",
       "3                     1  \n",
       "4                     1  "
      ]
     },
     "execution_count": 6,
     "metadata": {},
     "output_type": "execute_result"
    }
   ],
   "source": [
    "admissions.head()"
   ]
  },
  {
   "cell_type": "code",
   "execution_count": 7,
   "metadata": {},
   "outputs": [
    {
     "name": "stdout",
     "output_type": "stream",
     "text": [
      "<class 'pandas.core.frame.DataFrame'>\n",
      "RangeIndex: 58976 entries, 0 to 58975\n",
      "Data columns (total 19 columns):\n",
      "ROW_ID                  58976 non-null int64\n",
      "SUBJECT_ID              58976 non-null int64\n",
      "HADM_ID                 58976 non-null int64\n",
      "ADMITTIME               58976 non-null object\n",
      "DISCHTIME               58976 non-null object\n",
      "DEATHTIME               5854 non-null object\n",
      "ADMISSION_TYPE          58976 non-null object\n",
      "ADMISSION_LOCATION      58976 non-null object\n",
      "DISCHARGE_LOCATION      58976 non-null object\n",
      "INSURANCE               58976 non-null object\n",
      "LANGUAGE                33644 non-null object\n",
      "RELIGION                58518 non-null object\n",
      "MARITAL_STATUS          48848 non-null object\n",
      "ETHNICITY               58976 non-null object\n",
      "EDREGTIME               30877 non-null object\n",
      "EDOUTTIME               30877 non-null object\n",
      "DIAGNOSIS               58951 non-null object\n",
      "HOSPITAL_EXPIRE_FLAG    58976 non-null int64\n",
      "HAS_CHARTEVENTS_DATA    58976 non-null int64\n",
      "dtypes: int64(5), object(14)\n",
      "memory usage: 8.5+ MB\n"
     ]
    }
   ],
   "source": [
    "admissions.info()"
   ]
  },
  {
   "cell_type": "code",
   "execution_count": 161,
   "metadata": {},
   "outputs": [
    {
     "data": {
      "text/plain": [
       "EMERGENCY    42071\n",
       "NEWBORN       7863\n",
       "ELECTIVE      7706\n",
       "URGENT        1336\n",
       "Name: ADMISSION_TYPE, dtype: int64"
      ]
     },
     "execution_count": 161,
     "metadata": {},
     "output_type": "execute_result"
    }
   ],
   "source": [
    "admissions['ADMISSION_TYPE'].value_counts()"
   ]
  },
  {
   "cell_type": "code",
   "execution_count": 162,
   "metadata": {},
   "outputs": [],
   "source": [
    "#Removing new borns\n",
    "admissions = admissions.loc[admissions.ADMISSION_TYPE != 'NEWBORN']"
   ]
  },
  {
   "cell_type": "code",
   "execution_count": 163,
   "metadata": {},
   "outputs": [
    {
     "data": {
      "text/plain": [
       "EMERGENCY    42071\n",
       "ELECTIVE      7706\n",
       "URGENT        1336\n",
       "Name: ADMISSION_TYPE, dtype: int64"
      ]
     },
     "execution_count": 163,
     "metadata": {},
     "output_type": "execute_result"
    }
   ],
   "source": [
    "#Rows with NEWBORN ADMISSION_TYPE are removed\n",
    "admissions['ADMISSION_TYPE'].value_counts()"
   ]
  },
  {
   "cell_type": "code",
   "execution_count": 11,
   "metadata": {},
   "outputs": [
    {
     "name": "stdout",
     "output_type": "stream",
     "text": [
      "Number of patients died: 5792\n"
     ]
    }
   ],
   "source": [
    "#Saving the dead patients for later usage\n",
    "deadPatients = admissions.loc[admissions.DEATHTIME.notnull()]\n",
    "print(\"Number of patients died:\", len(deadPatients))"
   ]
  },
  {
   "cell_type": "code",
   "execution_count": 12,
   "metadata": {},
   "outputs": [],
   "source": [
    "#Removing pateints who are dead as they cant be readmitted\n",
    "admissions = admissions.loc[admissions.DEATHTIME.isnull()]"
   ]
  },
  {
   "cell_type": "code",
   "execution_count": 13,
   "metadata": {},
   "outputs": [
    {
     "data": {
      "text/html": [
       "<div>\n",
       "<style scoped>\n",
       "    .dataframe tbody tr th:only-of-type {\n",
       "        vertical-align: middle;\n",
       "    }\n",
       "\n",
       "    .dataframe tbody tr th {\n",
       "        vertical-align: top;\n",
       "    }\n",
       "\n",
       "    .dataframe thead th {\n",
       "        text-align: right;\n",
       "    }\n",
       "</style>\n",
       "<table border=\"1\" class=\"dataframe\">\n",
       "  <thead>\n",
       "    <tr style=\"text-align: right;\">\n",
       "      <th></th>\n",
       "      <th>ROW_ID</th>\n",
       "      <th>SUBJECT_ID</th>\n",
       "      <th>HADM_ID</th>\n",
       "      <th>ADMITTIME</th>\n",
       "      <th>DISCHTIME</th>\n",
       "      <th>DEATHTIME</th>\n",
       "      <th>ADMISSION_TYPE</th>\n",
       "      <th>ADMISSION_LOCATION</th>\n",
       "      <th>DISCHARGE_LOCATION</th>\n",
       "      <th>INSURANCE</th>\n",
       "      <th>LANGUAGE</th>\n",
       "      <th>RELIGION</th>\n",
       "      <th>MARITAL_STATUS</th>\n",
       "      <th>ETHNICITY</th>\n",
       "      <th>EDREGTIME</th>\n",
       "      <th>EDOUTTIME</th>\n",
       "      <th>DIAGNOSIS</th>\n",
       "      <th>HOSPITAL_EXPIRE_FLAG</th>\n",
       "      <th>HAS_CHARTEVENTS_DATA</th>\n",
       "    </tr>\n",
       "  </thead>\n",
       "  <tbody>\n",
       "  </tbody>\n",
       "</table>\n",
       "</div>"
      ],
      "text/plain": [
       "Empty DataFrame\n",
       "Columns: [ROW_ID, SUBJECT_ID, HADM_ID, ADMITTIME, DISCHTIME, DEATHTIME, ADMISSION_TYPE, ADMISSION_LOCATION, DISCHARGE_LOCATION, INSURANCE, LANGUAGE, RELIGION, MARITAL_STATUS, ETHNICITY, EDREGTIME, EDOUTTIME, DIAGNOSIS, HOSPITAL_EXPIRE_FLAG, HAS_CHARTEVENTS_DATA]\n",
       "Index: []"
      ]
     },
     "execution_count": 13,
     "metadata": {},
     "output_type": "execute_result"
    }
   ],
   "source": [
    "#Checking whether the dead patients are removed\n",
    "admissions.loc[admissions.DEATHTIME.notnull()]"
   ]
  },
  {
   "cell_type": "code",
   "execution_count": 14,
   "metadata": {},
   "outputs": [
    {
     "name": "stdout",
     "output_type": "stream",
     "text": [
      "Missing admission dates: 0\n",
      "Missing discharge dates: 0\n"
     ]
    }
   ],
   "source": [
    "# Checking if there are any missing dates in the data\n",
    "print('Missing admission dates:', admissions.ADMITTIME.isnull().sum())\n",
    "print('Missing discharge dates:', admissions.DISCHTIME.isnull().sum())"
   ]
  },
  {
   "cell_type": "code",
   "execution_count": 15,
   "metadata": {},
   "outputs": [],
   "source": [
    "#convert the dates to proper format\n",
    "admissions.ADMITTIME = pd.to_datetime(admissions.ADMITTIME, format = '%Y-%m-%d %H:%M:%S', errors = 'coerce')\n",
    "admissions.DISCHTIME = pd.to_datetime(admissions.DISCHTIME, format = '%Y-%m-%d %H:%M:%S', errors = 'coerce')\n",
    "admissions.DEATHTIME = pd.to_datetime(admissions.DEATHTIME, format = '%Y-%m-%d %H:%M:%S', errors = 'coerce')"
   ]
  },
  {
   "cell_type": "code",
   "execution_count": 16,
   "metadata": {},
   "outputs": [
    {
     "name": "stdout",
     "output_type": "stream",
     "text": [
      "<class 'pandas.core.frame.DataFrame'>\n",
      "Int64Index: 45321 entries, 0 to 58975\n",
      "Data columns (total 19 columns):\n",
      "ROW_ID                  45321 non-null int64\n",
      "SUBJECT_ID              45321 non-null int64\n",
      "HADM_ID                 45321 non-null int64\n",
      "ADMITTIME               45321 non-null datetime64[ns]\n",
      "DISCHTIME               45321 non-null datetime64[ns]\n",
      "DEATHTIME               0 non-null datetime64[ns]\n",
      "ADMISSION_TYPE          45321 non-null object\n",
      "ADMISSION_LOCATION      45321 non-null object\n",
      "DISCHARGE_LOCATION      45321 non-null object\n",
      "INSURANCE               45321 non-null object\n",
      "LANGUAGE                30317 non-null object\n",
      "RELIGION                44966 non-null object\n",
      "MARITAL_STATUS          43346 non-null object\n",
      "ETHNICITY               45321 non-null object\n",
      "EDREGTIME               26792 non-null object\n",
      "EDOUTTIME               26792 non-null object\n",
      "DIAGNOSIS               45297 non-null object\n",
      "HOSPITAL_EXPIRE_FLAG    45321 non-null int64\n",
      "HAS_CHARTEVENTS_DATA    45321 non-null int64\n",
      "dtypes: datetime64[ns](3), int64(5), object(11)\n",
      "memory usage: 6.9+ MB\n"
     ]
    }
   ],
   "source": [
    "#Date and Time columns have been changed\n",
    "admissions.info()"
   ]
  },
  {
   "cell_type": "code",
   "execution_count": 17,
   "metadata": {},
   "outputs": [],
   "source": [
    "#Sorting the data by subject_ID and admission date to make sure we do not mess with different patients data\n",
    "admissions = admissions.sort_values(['SUBJECT_ID','ADMITTIME'])\n",
    "#When we reset the index, the old index is added as a column, and a new sequential index is used. \n",
    "#Use the 'drop' parameter to avoid the old index being added as a column\n",
    "admissions = admissions.reset_index(drop = True)"
   ]
  },
  {
   "cell_type": "code",
   "execution_count": 18,
   "metadata": {},
   "outputs": [
    {
     "data": {
      "text/html": [
       "<div>\n",
       "<style scoped>\n",
       "    .dataframe tbody tr th:only-of-type {\n",
       "        vertical-align: middle;\n",
       "    }\n",
       "\n",
       "    .dataframe tbody tr th {\n",
       "        vertical-align: top;\n",
       "    }\n",
       "\n",
       "    .dataframe thead th {\n",
       "        text-align: right;\n",
       "    }\n",
       "</style>\n",
       "<table border=\"1\" class=\"dataframe\">\n",
       "  <thead>\n",
       "    <tr style=\"text-align: right;\">\n",
       "      <th></th>\n",
       "      <th>ROW_ID</th>\n",
       "      <th>SUBJECT_ID</th>\n",
       "      <th>HADM_ID</th>\n",
       "      <th>ADMITTIME</th>\n",
       "      <th>DISCHTIME</th>\n",
       "      <th>DEATHTIME</th>\n",
       "      <th>ADMISSION_TYPE</th>\n",
       "      <th>ADMISSION_LOCATION</th>\n",
       "      <th>DISCHARGE_LOCATION</th>\n",
       "      <th>INSURANCE</th>\n",
       "      <th>LANGUAGE</th>\n",
       "      <th>RELIGION</th>\n",
       "      <th>MARITAL_STATUS</th>\n",
       "      <th>ETHNICITY</th>\n",
       "      <th>EDREGTIME</th>\n",
       "      <th>EDOUTTIME</th>\n",
       "      <th>DIAGNOSIS</th>\n",
       "      <th>HOSPITAL_EXPIRE_FLAG</th>\n",
       "      <th>HAS_CHARTEVENTS_DATA</th>\n",
       "    </tr>\n",
       "  </thead>\n",
       "  <tbody>\n",
       "    <tr>\n",
       "      <th>12</th>\n",
       "      <td>22</td>\n",
       "      <td>23</td>\n",
       "      <td>152223</td>\n",
       "      <td>2153-09-03 07:15:00</td>\n",
       "      <td>2153-09-08 19:10:00</td>\n",
       "      <td>NaT</td>\n",
       "      <td>ELECTIVE</td>\n",
       "      <td>PHYS REFERRAL/NORMAL DELI</td>\n",
       "      <td>HOME HEALTH CARE</td>\n",
       "      <td>Medicare</td>\n",
       "      <td>NaN</td>\n",
       "      <td>CATHOLIC</td>\n",
       "      <td>MARRIED</td>\n",
       "      <td>WHITE</td>\n",
       "      <td>NaN</td>\n",
       "      <td>NaN</td>\n",
       "      <td>CORONARY ARTERY DISEASE\\CORONARY ARTERY BYPASS...</td>\n",
       "      <td>0</td>\n",
       "      <td>1</td>\n",
       "    </tr>\n",
       "    <tr>\n",
       "      <th>13</th>\n",
       "      <td>23</td>\n",
       "      <td>23</td>\n",
       "      <td>124321</td>\n",
       "      <td>2157-10-18 19:34:00</td>\n",
       "      <td>2157-10-25 14:00:00</td>\n",
       "      <td>NaT</td>\n",
       "      <td>EMERGENCY</td>\n",
       "      <td>TRANSFER FROM HOSP/EXTRAM</td>\n",
       "      <td>HOME HEALTH CARE</td>\n",
       "      <td>Medicare</td>\n",
       "      <td>ENGL</td>\n",
       "      <td>CATHOLIC</td>\n",
       "      <td>MARRIED</td>\n",
       "      <td>WHITE</td>\n",
       "      <td>NaN</td>\n",
       "      <td>NaN</td>\n",
       "      <td>BRAIN MASS</td>\n",
       "      <td>0</td>\n",
       "      <td>1</td>\n",
       "    </tr>\n",
       "  </tbody>\n",
       "</table>\n",
       "</div>"
      ],
      "text/plain": [
       "    ROW_ID  SUBJECT_ID  HADM_ID           ADMITTIME           DISCHTIME  \\\n",
       "12      22          23   152223 2153-09-03 07:15:00 2153-09-08 19:10:00   \n",
       "13      23          23   124321 2157-10-18 19:34:00 2157-10-25 14:00:00   \n",
       "\n",
       "   DEATHTIME ADMISSION_TYPE         ADMISSION_LOCATION DISCHARGE_LOCATION  \\\n",
       "12       NaT       ELECTIVE  PHYS REFERRAL/NORMAL DELI   HOME HEALTH CARE   \n",
       "13       NaT      EMERGENCY  TRANSFER FROM HOSP/EXTRAM   HOME HEALTH CARE   \n",
       "\n",
       "   INSURANCE LANGUAGE  RELIGION MARITAL_STATUS ETHNICITY EDREGTIME EDOUTTIME  \\\n",
       "12  Medicare      NaN  CATHOLIC        MARRIED     WHITE       NaN       NaN   \n",
       "13  Medicare     ENGL  CATHOLIC        MARRIED     WHITE       NaN       NaN   \n",
       "\n",
       "                                            DIAGNOSIS  HOSPITAL_EXPIRE_FLAG  \\\n",
       "12  CORONARY ARTERY DISEASE\\CORONARY ARTERY BYPASS...                     0   \n",
       "13                                         BRAIN MASS                     0   \n",
       "\n",
       "    HAS_CHARTEVENTS_DATA  \n",
       "12                     1  \n",
       "13                     1  "
      ]
     },
     "execution_count": 18,
     "metadata": {},
     "output_type": "execute_result"
    }
   ],
   "source": [
    "#single patients data looks like this now\n",
    "admissions.loc[admissions.SUBJECT_ID == 23]"
   ]
  },
  {
   "cell_type": "code",
   "execution_count": 19,
   "metadata": {},
   "outputs": [],
   "source": [
    "#Add the next admission date and admission type for each subject using groupby \n",
    "#as the dates of all the patients are different. I am shifting the data by 1 \n",
    "admissions['READMITTIME'] = admissions.groupby('SUBJECT_ID').ADMITTIME.shift(-1)\n",
    "admissions['READMISSION_TYPE'] = admissions.groupby('SUBJECT_ID').ADMISSION_TYPE.shift(-1)"
   ]
  },
  {
   "cell_type": "code",
   "execution_count": 20,
   "metadata": {},
   "outputs": [],
   "source": [
    "#Replacing rows of 'elective' admissions with NaT and NaN as we are only looking into emergency cases\n",
    "temp = admissions.READMISSION_TYPE == 'ELECTIVE'\n",
    "admissions.loc[temp,'READMITTIME'] = pd.NaT\n",
    "admissions.loc[temp,'READMISSION_TYPE'] = np.NaN"
   ]
  },
  {
   "cell_type": "code",
   "execution_count": 21,
   "metadata": {},
   "outputs": [],
   "source": [
    "admissions = admissions.sort_values(['SUBJECT_ID','ADMITTIME'])\n",
    "#As I deleted the Elective type and time of admit, I am replacing them with any emergencies present later on\n",
    "admissions[['READMITTIME','READMISSION_TYPE']] = admissions.groupby(['SUBJECT_ID'])[['READMITTIME','READMISSION_TYPE']].fillna(method = 'bfill')"
   ]
  },
  {
   "cell_type": "code",
   "execution_count": 22,
   "metadata": {},
   "outputs": [],
   "source": [
    "#Calculating the number of days until the next admission\n",
    "admissions['DAYS_NEXT_ADMIT'] = (admissions.READMITTIME - admissions.DISCHTIME).dt.total_seconds()/(24*60*60)"
   ]
  },
  {
   "cell_type": "markdown",
   "metadata": {},
   "source": [
    "###############################################################################################################################"
   ]
  },
  {
   "cell_type": "code",
   "execution_count": 24,
   "metadata": {},
   "outputs": [],
   "source": [
    "diagnoses = pd.read_csv(r'C:\\Users\\samsu\\Desktop\\Spring 2020\\HAP 880\\Final project\\mimic-iii\\DIAGNOSES_ICD.csv')"
   ]
  },
  {
   "cell_type": "code",
   "execution_count": 25,
   "metadata": {},
   "outputs": [
    {
     "name": "stdout",
     "output_type": "stream",
     "text": [
      "Number of unique ICD9 codes: 6984\n"
     ]
    }
   ],
   "source": [
    "print('Number of unique ICD9 codes:',len(diagnoses['ICD9_CODE'].value_counts()))"
   ]
  },
  {
   "cell_type": "code",
   "execution_count": 26,
   "metadata": {},
   "outputs": [],
   "source": [
    "# Converting E and V codes to numeric ICD9 codes and also taking first the digits of all codes\n",
    "diagnoses['symptoms'] = diagnoses['ICD9_CODE']\n",
    "diagnoses['symptoms'] = diagnoses['symptoms'][~diagnoses['symptoms'].str.contains(\"[a-zA-Z]\").fillna(False)]\n",
    "diagnoses['symptoms'].fillna(value='999', inplace=True)\n",
    "diagnoses['symptoms'] = diagnoses['symptoms'].str.slice(start=0, stop=3, step=1)\n",
    "diagnoses[['symptoms']] = diagnoses[['symptoms']].apply(pd.to_numeric)"
   ]
  },
  {
   "cell_type": "code",
   "execution_count": 27,
   "metadata": {},
   "outputs": [],
   "source": [
    "#ICD9 categories\n",
    "ranges = [(1, 140), (140, 240), (240, 280), (280, 290), (290, 320), (320, 390),(390, 460), (460, 520),\n",
    "               (520, 580), (580, 630), (630, 680), (680, 710),(710, 740), (740, 760), (760, 780), (780, 800),\n",
    "               (800, 1000)]\n",
    "\n",
    "#Mapping the categories\n",
    "recode = {0: 'infectious', 1: 'neoplasms', 2: 'endocrine', 3: 'blood',4: 'mental', 5: 'nervous', 6: 'circulatory', \n",
    "          7: 'respiratory',8: 'digestive', 9: 'genitourinary', 10: 'pregnancy', 11: 'skin', 12: 'musculoskeletal pain', \n",
    "          13: 'congenital', 14: 'perinatal', 15: 'misc',16: 'injury'}\n",
    "\n",
    "for num, cat_range in enumerate(ranges):\n",
    "    diagnoses['symptoms'] = np.where(diagnoses['symptoms'].between(cat_range[0],cat_range[1]),\n",
    "            num, diagnoses['symptoms'])"
   ]
  },
  {
   "cell_type": "code",
   "execution_count": 28,
   "metadata": {},
   "outputs": [
    {
     "data": {
      "text/html": [
       "<div>\n",
       "<style scoped>\n",
       "    .dataframe tbody tr th:only-of-type {\n",
       "        vertical-align: middle;\n",
       "    }\n",
       "\n",
       "    .dataframe tbody tr th {\n",
       "        vertical-align: top;\n",
       "    }\n",
       "\n",
       "    .dataframe thead th {\n",
       "        text-align: right;\n",
       "    }\n",
       "</style>\n",
       "<table border=\"1\" class=\"dataframe\">\n",
       "  <thead>\n",
       "    <tr style=\"text-align: right;\">\n",
       "      <th></th>\n",
       "      <th>ROW_ID</th>\n",
       "      <th>SUBJECT_ID</th>\n",
       "      <th>HADM_ID</th>\n",
       "      <th>SEQ_NUM</th>\n",
       "      <th>ICD9_CODE</th>\n",
       "      <th>symptoms</th>\n",
       "    </tr>\n",
       "  </thead>\n",
       "  <tbody>\n",
       "    <tr>\n",
       "      <th>0</th>\n",
       "      <td>1297</td>\n",
       "      <td>109</td>\n",
       "      <td>172335</td>\n",
       "      <td>1.0</td>\n",
       "      <td>40301</td>\n",
       "      <td>6</td>\n",
       "    </tr>\n",
       "    <tr>\n",
       "      <th>1</th>\n",
       "      <td>1298</td>\n",
       "      <td>109</td>\n",
       "      <td>172335</td>\n",
       "      <td>2.0</td>\n",
       "      <td>486</td>\n",
       "      <td>7</td>\n",
       "    </tr>\n",
       "    <tr>\n",
       "      <th>2</th>\n",
       "      <td>1299</td>\n",
       "      <td>109</td>\n",
       "      <td>172335</td>\n",
       "      <td>3.0</td>\n",
       "      <td>58281</td>\n",
       "      <td>9</td>\n",
       "    </tr>\n",
       "  </tbody>\n",
       "</table>\n",
       "</div>"
      ],
      "text/plain": [
       "   ROW_ID  SUBJECT_ID  HADM_ID  SEQ_NUM ICD9_CODE  symptoms\n",
       "0    1297         109   172335      1.0     40301         6\n",
       "1    1298         109   172335      2.0       486         7\n",
       "2    1299         109   172335      3.0     58281         9"
      ]
     },
     "execution_count": 28,
     "metadata": {},
     "output_type": "execute_result"
    }
   ],
   "source": [
    "diagnoses.head(3)"
   ]
  },
  {
   "cell_type": "code",
   "execution_count": 29,
   "metadata": {},
   "outputs": [],
   "source": [
    "#Convert integer to category name using diag_dict\n",
    "diagnoses['symptoms'] = diagnoses['symptoms']\n",
    "diagnoses['symptoms'] = diagnoses['symptoms'].replace(recode)"
   ]
  },
  {
   "cell_type": "code",
   "execution_count": 30,
   "metadata": {},
   "outputs": [
    {
     "data": {
      "text/html": [
       "<div>\n",
       "<style scoped>\n",
       "    .dataframe tbody tr th:only-of-type {\n",
       "        vertical-align: middle;\n",
       "    }\n",
       "\n",
       "    .dataframe tbody tr th {\n",
       "        vertical-align: top;\n",
       "    }\n",
       "\n",
       "    .dataframe thead th {\n",
       "        text-align: right;\n",
       "    }\n",
       "</style>\n",
       "<table border=\"1\" class=\"dataframe\">\n",
       "  <thead>\n",
       "    <tr style=\"text-align: right;\">\n",
       "      <th></th>\n",
       "      <th>HADM_ID</th>\n",
       "      <th>symptoms</th>\n",
       "    </tr>\n",
       "  </thead>\n",
       "  <tbody>\n",
       "    <tr>\n",
       "      <th>0</th>\n",
       "      <td>100001</td>\n",
       "      <td>[endocrine, nervous, genitourinary, digestive,...</td>\n",
       "    </tr>\n",
       "    <tr>\n",
       "      <th>1</th>\n",
       "      <td>100003</td>\n",
       "      <td>[digestive, blood, infectious, digestive, circ...</td>\n",
       "    </tr>\n",
       "    <tr>\n",
       "      <th>2</th>\n",
       "      <td>100006</td>\n",
       "      <td>[respiratory, respiratory, respiratory, neopla...</td>\n",
       "    </tr>\n",
       "  </tbody>\n",
       "</table>\n",
       "</div>"
      ],
      "text/plain": [
       "   HADM_ID                                           symptoms\n",
       "0   100001  [endocrine, nervous, genitourinary, digestive,...\n",
       "1   100003  [digestive, blood, infectious, digestive, circ...\n",
       "2   100006  [respiratory, respiratory, respiratory, neopla..."
      ]
     },
     "execution_count": 30,
     "metadata": {},
     "output_type": "execute_result"
    }
   ],
   "source": [
    "# Create list of diagnoses for each admission\n",
    "hadm_list = diagnoses.groupby('HADM_ID')['symptoms'].apply(list).reset_index()\n",
    "hadm_list.head(3)"
   ]
  },
  {
   "cell_type": "code",
   "execution_count": 31,
   "metadata": {},
   "outputs": [
    {
     "data": {
      "text/plain": [
       "['endocrine',\n",
       " 'nervous',\n",
       " 'genitourinary',\n",
       " 'digestive',\n",
       " 'injury',\n",
       " 'endocrine',\n",
       " 'digestive',\n",
       " 'circulatory',\n",
       " 'endocrine',\n",
       " 'circulatory',\n",
       " 'genitourinary',\n",
       " 'endocrine',\n",
       " 'nervous',\n",
       " 'endocrine',\n",
       " 'skin',\n",
       " 'injury']"
      ]
     },
     "execution_count": 31,
     "metadata": {},
     "output_type": "execute_result"
    }
   ],
   "source": [
    "#See endocrine is repeated 5 times for a single patient\n",
    "hadm_list['symptoms'].loc[0]"
   ]
  },
  {
   "cell_type": "code",
   "execution_count": 32,
   "metadata": {},
   "outputs": [],
   "source": [
    "#Now converting the symptoms into dummies and storing the count of each patients same symptoms numbers intact\n",
    "dummies = pd.get_dummies(hadm_list['symptoms'].apply(pd.Series).stack()).sum(level=0)"
   ]
  },
  {
   "cell_type": "code",
   "execution_count": 33,
   "metadata": {},
   "outputs": [],
   "source": [
    "#joining HADM_ID with the symptoms matrix\n",
    "dummies = dummies.join(hadm_list['HADM_ID'], how=\"outer\")"
   ]
  },
  {
   "cell_type": "code",
   "execution_count": 34,
   "metadata": {},
   "outputs": [
    {
     "data": {
      "text/html": [
       "<div>\n",
       "<style scoped>\n",
       "    .dataframe tbody tr th:only-of-type {\n",
       "        vertical-align: middle;\n",
       "    }\n",
       "\n",
       "    .dataframe tbody tr th {\n",
       "        vertical-align: top;\n",
       "    }\n",
       "\n",
       "    .dataframe thead th {\n",
       "        text-align: right;\n",
       "    }\n",
       "</style>\n",
       "<table border=\"1\" class=\"dataframe\">\n",
       "  <thead>\n",
       "    <tr style=\"text-align: right;\">\n",
       "      <th></th>\n",
       "      <th>ROW_ID</th>\n",
       "      <th>SUBJECT_ID</th>\n",
       "      <th>HADM_ID</th>\n",
       "      <th>ADMITTIME</th>\n",
       "      <th>DISCHTIME</th>\n",
       "      <th>DEATHTIME</th>\n",
       "      <th>ADMISSION_TYPE</th>\n",
       "      <th>ADMISSION_LOCATION</th>\n",
       "      <th>DISCHARGE_LOCATION</th>\n",
       "      <th>INSURANCE</th>\n",
       "      <th>...</th>\n",
       "      <th>injury</th>\n",
       "      <th>mental</th>\n",
       "      <th>misc</th>\n",
       "      <th>musculoskeletal pain</th>\n",
       "      <th>neoplasms</th>\n",
       "      <th>nervous</th>\n",
       "      <th>perinatal</th>\n",
       "      <th>pregnancy</th>\n",
       "      <th>respiratory</th>\n",
       "      <th>skin</th>\n",
       "    </tr>\n",
       "  </thead>\n",
       "  <tbody>\n",
       "    <tr>\n",
       "      <th>0</th>\n",
       "      <td>2</td>\n",
       "      <td>3</td>\n",
       "      <td>145834</td>\n",
       "      <td>2101-10-20 19:08:00</td>\n",
       "      <td>2101-10-31 13:58:00</td>\n",
       "      <td>NaT</td>\n",
       "      <td>EMERGENCY</td>\n",
       "      <td>EMERGENCY ROOM ADMIT</td>\n",
       "      <td>SNF</td>\n",
       "      <td>Medicare</td>\n",
       "      <td>...</td>\n",
       "      <td>0</td>\n",
       "      <td>0</td>\n",
       "      <td>1</td>\n",
       "      <td>0</td>\n",
       "      <td>0</td>\n",
       "      <td>0</td>\n",
       "      <td>0</td>\n",
       "      <td>0</td>\n",
       "      <td>0</td>\n",
       "      <td>1</td>\n",
       "    </tr>\n",
       "    <tr>\n",
       "      <th>1</th>\n",
       "      <td>3</td>\n",
       "      <td>4</td>\n",
       "      <td>185777</td>\n",
       "      <td>2191-03-16 00:28:00</td>\n",
       "      <td>2191-03-23 18:41:00</td>\n",
       "      <td>NaT</td>\n",
       "      <td>EMERGENCY</td>\n",
       "      <td>EMERGENCY ROOM ADMIT</td>\n",
       "      <td>HOME WITH HOME IV PROVIDR</td>\n",
       "      <td>Private</td>\n",
       "      <td>...</td>\n",
       "      <td>2</td>\n",
       "      <td>0</td>\n",
       "      <td>2</td>\n",
       "      <td>0</td>\n",
       "      <td>0</td>\n",
       "      <td>0</td>\n",
       "      <td>0</td>\n",
       "      <td>0</td>\n",
       "      <td>0</td>\n",
       "      <td>0</td>\n",
       "    </tr>\n",
       "    <tr>\n",
       "      <th>2</th>\n",
       "      <td>5</td>\n",
       "      <td>6</td>\n",
       "      <td>107064</td>\n",
       "      <td>2175-05-30 07:15:00</td>\n",
       "      <td>2175-06-15 16:00:00</td>\n",
       "      <td>NaT</td>\n",
       "      <td>ELECTIVE</td>\n",
       "      <td>PHYS REFERRAL/NORMAL DELI</td>\n",
       "      <td>HOME HEALTH CARE</td>\n",
       "      <td>Medicare</td>\n",
       "      <td>...</td>\n",
       "      <td>2</td>\n",
       "      <td>0</td>\n",
       "      <td>0</td>\n",
       "      <td>0</td>\n",
       "      <td>0</td>\n",
       "      <td>0</td>\n",
       "      <td>0</td>\n",
       "      <td>0</td>\n",
       "      <td>0</td>\n",
       "      <td>0</td>\n",
       "    </tr>\n",
       "  </tbody>\n",
       "</table>\n",
       "<p>3 rows × 39 columns</p>\n",
       "</div>"
      ],
      "text/plain": [
       "   ROW_ID  SUBJECT_ID  HADM_ID           ADMITTIME           DISCHTIME  \\\n",
       "0       2           3   145834 2101-10-20 19:08:00 2101-10-31 13:58:00   \n",
       "1       3           4   185777 2191-03-16 00:28:00 2191-03-23 18:41:00   \n",
       "2       5           6   107064 2175-05-30 07:15:00 2175-06-15 16:00:00   \n",
       "\n",
       "  DEATHTIME ADMISSION_TYPE         ADMISSION_LOCATION  \\\n",
       "0       NaT      EMERGENCY       EMERGENCY ROOM ADMIT   \n",
       "1       NaT      EMERGENCY       EMERGENCY ROOM ADMIT   \n",
       "2       NaT       ELECTIVE  PHYS REFERRAL/NORMAL DELI   \n",
       "\n",
       "          DISCHARGE_LOCATION INSURANCE  ... injury mental misc  \\\n",
       "0                        SNF  Medicare  ...      0      0    1   \n",
       "1  HOME WITH HOME IV PROVIDR   Private  ...      2      0    2   \n",
       "2           HOME HEALTH CARE  Medicare  ...      2      0    0   \n",
       "\n",
       "  musculoskeletal pain neoplasms nervous perinatal  pregnancy  respiratory  \\\n",
       "0                    0         0       0         0          0            0   \n",
       "1                    0         0       0         0          0            0   \n",
       "2                    0         0       0         0          0            0   \n",
       "\n",
       "  skin  \n",
       "0    1  \n",
       "1    0  \n",
       "2    0  \n",
       "\n",
       "[3 rows x 39 columns]"
      ]
     },
     "execution_count": 34,
     "metadata": {},
     "output_type": "execute_result"
    }
   ],
   "source": [
    "#Joining admission and Diagnosis codes\n",
    "adm_diag = admissions.merge(dummies, how='inner', on='HADM_ID')\n",
    "adm_diag.head(3)"
   ]
  },
  {
   "cell_type": "markdown",
   "metadata": {},
   "source": [
    "###############################################################################################################################"
   ]
  },
  {
   "cell_type": "code",
   "execution_count": 35,
   "metadata": {},
   "outputs": [
    {
     "name": "stderr",
     "output_type": "stream",
     "text": [
      "C:\\Users\\samsu\\Anaconda3\\lib\\site-packages\\IPython\\core\\interactiveshell.py:3057: DtypeWarning: Columns (4,5) have mixed types. Specify dtype option on import or set low_memory=False.\n",
      "  interactivity=interactivity, compiler=compiler, result=result)\n"
     ]
    }
   ],
   "source": [
    "notes = pd.read_csv(r'C:\\Users\\samsu\\Desktop\\Spring 2020\\HAP 880\\Final project\\mimic-iii\\NOTEEVENTS.csv')"
   ]
  },
  {
   "cell_type": "code",
   "execution_count": 36,
   "metadata": {},
   "outputs": [
    {
     "data": {
      "text/html": [
       "<div>\n",
       "<style scoped>\n",
       "    .dataframe tbody tr th:only-of-type {\n",
       "        vertical-align: middle;\n",
       "    }\n",
       "\n",
       "    .dataframe tbody tr th {\n",
       "        vertical-align: top;\n",
       "    }\n",
       "\n",
       "    .dataframe thead th {\n",
       "        text-align: right;\n",
       "    }\n",
       "</style>\n",
       "<table border=\"1\" class=\"dataframe\">\n",
       "  <thead>\n",
       "    <tr style=\"text-align: right;\">\n",
       "      <th></th>\n",
       "      <th>ROW_ID</th>\n",
       "      <th>SUBJECT_ID</th>\n",
       "      <th>HADM_ID</th>\n",
       "      <th>CHARTDATE</th>\n",
       "      <th>CHARTTIME</th>\n",
       "      <th>STORETIME</th>\n",
       "      <th>CATEGORY</th>\n",
       "      <th>DESCRIPTION</th>\n",
       "      <th>CGID</th>\n",
       "      <th>ISERROR</th>\n",
       "      <th>TEXT</th>\n",
       "    </tr>\n",
       "  </thead>\n",
       "  <tbody>\n",
       "    <tr>\n",
       "      <th>0</th>\n",
       "      <td>174</td>\n",
       "      <td>22532</td>\n",
       "      <td>167853.0</td>\n",
       "      <td>2151-08-04</td>\n",
       "      <td>NaN</td>\n",
       "      <td>NaN</td>\n",
       "      <td>Discharge summary</td>\n",
       "      <td>Report</td>\n",
       "      <td>NaN</td>\n",
       "      <td>NaN</td>\n",
       "      <td>Admission Date:  [**2151-7-16**]       Dischar...</td>\n",
       "    </tr>\n",
       "    <tr>\n",
       "      <th>1</th>\n",
       "      <td>175</td>\n",
       "      <td>13702</td>\n",
       "      <td>107527.0</td>\n",
       "      <td>2118-06-14</td>\n",
       "      <td>NaN</td>\n",
       "      <td>NaN</td>\n",
       "      <td>Discharge summary</td>\n",
       "      <td>Report</td>\n",
       "      <td>NaN</td>\n",
       "      <td>NaN</td>\n",
       "      <td>Admission Date:  [**2118-6-2**]       Discharg...</td>\n",
       "    </tr>\n",
       "    <tr>\n",
       "      <th>2</th>\n",
       "      <td>176</td>\n",
       "      <td>13702</td>\n",
       "      <td>167118.0</td>\n",
       "      <td>2119-05-25</td>\n",
       "      <td>NaN</td>\n",
       "      <td>NaN</td>\n",
       "      <td>Discharge summary</td>\n",
       "      <td>Report</td>\n",
       "      <td>NaN</td>\n",
       "      <td>NaN</td>\n",
       "      <td>Admission Date:  [**2119-5-4**]              D...</td>\n",
       "    </tr>\n",
       "    <tr>\n",
       "      <th>3</th>\n",
       "      <td>177</td>\n",
       "      <td>13702</td>\n",
       "      <td>196489.0</td>\n",
       "      <td>2124-08-18</td>\n",
       "      <td>NaN</td>\n",
       "      <td>NaN</td>\n",
       "      <td>Discharge summary</td>\n",
       "      <td>Report</td>\n",
       "      <td>NaN</td>\n",
       "      <td>NaN</td>\n",
       "      <td>Admission Date:  [**2124-7-21**]              ...</td>\n",
       "    </tr>\n",
       "    <tr>\n",
       "      <th>4</th>\n",
       "      <td>178</td>\n",
       "      <td>26880</td>\n",
       "      <td>135453.0</td>\n",
       "      <td>2162-03-25</td>\n",
       "      <td>NaN</td>\n",
       "      <td>NaN</td>\n",
       "      <td>Discharge summary</td>\n",
       "      <td>Report</td>\n",
       "      <td>NaN</td>\n",
       "      <td>NaN</td>\n",
       "      <td>Admission Date:  [**2162-3-3**]              D...</td>\n",
       "    </tr>\n",
       "    <tr>\n",
       "      <th>...</th>\n",
       "      <td>...</td>\n",
       "      <td>...</td>\n",
       "      <td>...</td>\n",
       "      <td>...</td>\n",
       "      <td>...</td>\n",
       "      <td>...</td>\n",
       "      <td>...</td>\n",
       "      <td>...</td>\n",
       "      <td>...</td>\n",
       "      <td>...</td>\n",
       "      <td>...</td>\n",
       "    </tr>\n",
       "    <tr>\n",
       "      <th>2083175</th>\n",
       "      <td>2070657</td>\n",
       "      <td>31097</td>\n",
       "      <td>115637.0</td>\n",
       "      <td>2132-01-21</td>\n",
       "      <td>2132-01-21 03:27:00</td>\n",
       "      <td>2132-01-21 03:38:00</td>\n",
       "      <td>Nursing/other</td>\n",
       "      <td>Report</td>\n",
       "      <td>17581.0</td>\n",
       "      <td>NaN</td>\n",
       "      <td>NPN\\n\\n\\n#1  Infant remains in RA with O2 sats...</td>\n",
       "    </tr>\n",
       "    <tr>\n",
       "      <th>2083176</th>\n",
       "      <td>2070658</td>\n",
       "      <td>31097</td>\n",
       "      <td>115637.0</td>\n",
       "      <td>2132-01-21</td>\n",
       "      <td>2132-01-21 09:50:00</td>\n",
       "      <td>2132-01-21 09:53:00</td>\n",
       "      <td>Nursing/other</td>\n",
       "      <td>Report</td>\n",
       "      <td>19211.0</td>\n",
       "      <td>NaN</td>\n",
       "      <td>Neonatology\\nDOL #5, CGA 36 weeks.\\n\\nCVR: Con...</td>\n",
       "    </tr>\n",
       "    <tr>\n",
       "      <th>2083177</th>\n",
       "      <td>2070659</td>\n",
       "      <td>31097</td>\n",
       "      <td>115637.0</td>\n",
       "      <td>2132-01-21</td>\n",
       "      <td>2132-01-21 16:42:00</td>\n",
       "      <td>2132-01-21 16:44:00</td>\n",
       "      <td>Nursing/other</td>\n",
       "      <td>Report</td>\n",
       "      <td>20104.0</td>\n",
       "      <td>NaN</td>\n",
       "      <td>Family Meeting Note\\nFamily meeting held with ...</td>\n",
       "    </tr>\n",
       "    <tr>\n",
       "      <th>2083178</th>\n",
       "      <td>2070660</td>\n",
       "      <td>31097</td>\n",
       "      <td>115637.0</td>\n",
       "      <td>2132-01-21</td>\n",
       "      <td>2132-01-21 18:05:00</td>\n",
       "      <td>2132-01-21 18:16:00</td>\n",
       "      <td>Nursing/other</td>\n",
       "      <td>Report</td>\n",
       "      <td>16023.0</td>\n",
       "      <td>NaN</td>\n",
       "      <td>NPN 1800\\n\\n\\n#1 Resp: [**Known lastname 2243*...</td>\n",
       "    </tr>\n",
       "    <tr>\n",
       "      <th>2083179</th>\n",
       "      <td>2070661</td>\n",
       "      <td>31097</td>\n",
       "      <td>115637.0</td>\n",
       "      <td>2132-01-21</td>\n",
       "      <td>2132-01-21 18:05:00</td>\n",
       "      <td>2132-01-21 18:31:00</td>\n",
       "      <td>Nursing/other</td>\n",
       "      <td>Report</td>\n",
       "      <td>16023.0</td>\n",
       "      <td>NaN</td>\n",
       "      <td>NPN 1800\\nNursing Addendum:\\n[**Known lastname...</td>\n",
       "    </tr>\n",
       "  </tbody>\n",
       "</table>\n",
       "<p>2083180 rows × 11 columns</p>\n",
       "</div>"
      ],
      "text/plain": [
       "          ROW_ID  SUBJECT_ID   HADM_ID   CHARTDATE            CHARTTIME  \\\n",
       "0            174       22532  167853.0  2151-08-04                  NaN   \n",
       "1            175       13702  107527.0  2118-06-14                  NaN   \n",
       "2            176       13702  167118.0  2119-05-25                  NaN   \n",
       "3            177       13702  196489.0  2124-08-18                  NaN   \n",
       "4            178       26880  135453.0  2162-03-25                  NaN   \n",
       "...          ...         ...       ...         ...                  ...   \n",
       "2083175  2070657       31097  115637.0  2132-01-21  2132-01-21 03:27:00   \n",
       "2083176  2070658       31097  115637.0  2132-01-21  2132-01-21 09:50:00   \n",
       "2083177  2070659       31097  115637.0  2132-01-21  2132-01-21 16:42:00   \n",
       "2083178  2070660       31097  115637.0  2132-01-21  2132-01-21 18:05:00   \n",
       "2083179  2070661       31097  115637.0  2132-01-21  2132-01-21 18:05:00   \n",
       "\n",
       "                   STORETIME           CATEGORY DESCRIPTION     CGID  ISERROR  \\\n",
       "0                        NaN  Discharge summary      Report      NaN      NaN   \n",
       "1                        NaN  Discharge summary      Report      NaN      NaN   \n",
       "2                        NaN  Discharge summary      Report      NaN      NaN   \n",
       "3                        NaN  Discharge summary      Report      NaN      NaN   \n",
       "4                        NaN  Discharge summary      Report      NaN      NaN   \n",
       "...                      ...                ...         ...      ...      ...   \n",
       "2083175  2132-01-21 03:38:00      Nursing/other      Report  17581.0      NaN   \n",
       "2083176  2132-01-21 09:53:00      Nursing/other      Report  19211.0      NaN   \n",
       "2083177  2132-01-21 16:44:00      Nursing/other      Report  20104.0      NaN   \n",
       "2083178  2132-01-21 18:16:00      Nursing/other      Report  16023.0      NaN   \n",
       "2083179  2132-01-21 18:31:00      Nursing/other      Report  16023.0      NaN   \n",
       "\n",
       "                                                      TEXT  \n",
       "0        Admission Date:  [**2151-7-16**]       Dischar...  \n",
       "1        Admission Date:  [**2118-6-2**]       Discharg...  \n",
       "2        Admission Date:  [**2119-5-4**]              D...  \n",
       "3        Admission Date:  [**2124-7-21**]              ...  \n",
       "4        Admission Date:  [**2162-3-3**]              D...  \n",
       "...                                                    ...  \n",
       "2083175  NPN\\n\\n\\n#1  Infant remains in RA with O2 sats...  \n",
       "2083176  Neonatology\\nDOL #5, CGA 36 weeks.\\n\\nCVR: Con...  \n",
       "2083177  Family Meeting Note\\nFamily meeting held with ...  \n",
       "2083178  NPN 1800\\n\\n\\n#1 Resp: [**Known lastname 2243*...  \n",
       "2083179  NPN 1800\\nNursing Addendum:\\n[**Known lastname...  \n",
       "\n",
       "[2083180 rows x 11 columns]"
      ]
     },
     "execution_count": 36,
     "metadata": {},
     "output_type": "execute_result"
    }
   ],
   "source": [
    "notes"
   ]
  },
  {
   "cell_type": "code",
   "execution_count": 37,
   "metadata": {},
   "outputs": [
    {
     "data": {
      "text/plain": [
       "Nursing/other        822497\n",
       "Radiology            522279\n",
       "Nursing              223556\n",
       "ECG                  209051\n",
       "Physician            141624\n",
       "Discharge summary     59652\n",
       "Echo                  45794\n",
       "Respiratory           31739\n",
       "Nutrition              9418\n",
       "General                8301\n",
       "Rehab Services         5431\n",
       "Social Work            2670\n",
       "Case Management         967\n",
       "Pharmacy                103\n",
       "Consult                  98\n",
       "Name: CATEGORY, dtype: int64"
      ]
     },
     "execution_count": 37,
     "metadata": {},
     "output_type": "execute_result"
    }
   ],
   "source": [
    "notes['CATEGORY'].value_counts()"
   ]
  },
  {
   "cell_type": "code",
   "execution_count": 38,
   "metadata": {},
   "outputs": [
    {
     "data": {
      "text/plain": [
       "'Admission Date:  [**2151-7-16**]       Discharge Date:  [**2151-8-4**]\\n\\n\\nService:\\nADDENDUM:\\n\\nRADIOLOGIC STUDIES:  Radiologic studies also included a chest\\nCT, which confirmed cavitary lesions in the left lung apex\\nconsistent with infectious process/tuberculosis.  This also\\nmoderate-sized left pleural effusion.\\n\\nHEAD CT:  Head CT showed no intracranial hemorrhage or mass\\neffect, but old infarction consistent with past medical\\nhistory.\\n\\nABDOMINAL CT:  Abdominal CT showed lesions of\\nT10 and sacrum most likely secondary to osteoporosis. These can\\nbe followed by repeat imaging as an outpatient.\\n\\n\\n\\n                            [**First Name8 (NamePattern2) **] [**First Name4 (NamePattern1) 1775**] [**Last Name (NamePattern1) **], M.D.  [**MD Number(1) 1776**]\\n\\nDictated By:[**Hospital 1807**]\\nMEDQUIST36\\n\\nD:  [**2151-8-5**]  12:11\\nT:  [**2151-8-5**]  12:21\\nJOB#:  [**Job Number 1808**]\\n'"
      ]
     },
     "execution_count": 38,
     "metadata": {},
     "output_type": "execute_result"
    }
   ],
   "source": [
    "notes.TEXT.iloc[0]"
   ]
  },
  {
   "cell_type": "code",
   "execution_count": 40,
   "metadata": {},
   "outputs": [],
   "source": [
    "notes = notes[~notes['HADM_ID'].isin(deadPatients['HADM_ID'])]"
   ]
  },
  {
   "cell_type": "code",
   "execution_count": 41,
   "metadata": {},
   "outputs": [
    {
     "name": "stderr",
     "output_type": "stream",
     "text": [
      "C:\\Users\\samsu\\Anaconda3\\lib\\site-packages\\pandas\\core\\generic.py:5208: SettingWithCopyWarning: \n",
      "A value is trying to be set on a copy of a slice from a DataFrame.\n",
      "Try using .loc[row_indexer,col_indexer] = value instead\n",
      "\n",
      "See the caveats in the documentation: http://pandas.pydata.org/pandas-docs/stable/user_guide/indexing.html#returning-a-view-versus-a-copy\n",
      "  self[name] = value\n"
     ]
    }
   ],
   "source": [
    "#Concatenating different notes of a same person as one note based on CHARTDATE and CHARTTIME\n",
    "#Convert CHARTDATE and CHARTTIME to proper date format\n",
    "notes.CHARTDATE = pd.to_datetime(notes.CHARTDATE, format = '%Y-%m-%d', errors = 'coerce')\n",
    "notes.CHARTTIME = pd.to_datetime(notes.CHARTTIME, format = '%Y-%m-%d %H:%M:%S', errors = 'coerce')\n",
    "\n",
    "notes = notes.sort_values(['SUBJECT_ID','CHARTDATE','CHARTTIME'])\n",
    "notes = notes.reset_index(drop = True)\n",
    "\n",
    "#Create a new dataframe as we only need these 2 columns\n",
    "concat_notes = notes[['SUBJECT_ID', 'TEXT']].copy()\n",
    "\n",
    "#Concatenating by each subject\n",
    "concat_notes = concat_notes.groupby('SUBJECT_ID')['TEXT'].agg(' '.join).reset_index()\n",
    "concat_notes.rename(columns={\"TEXT\":\"TEXT_CONCAT\"}, inplace=True)"
   ]
  },
  {
   "cell_type": "code",
   "execution_count": 42,
   "metadata": {},
   "outputs": [],
   "source": [
    "#Using left join as we already preprocessed the admissions and diagnoses\n",
    "adm_diag_notes = pd.merge(adm_diag[['SUBJECT_ID','HADM_ID','ADMITTIME','DISCHTIME','DAYS_NEXT_ADMIT','READMITTIME','READMISSION_TYPE',\n",
    "                          'DEATHTIME','blood', 'circulatory','congenital', 'digestive', 'endocrine', 'genitourinary',\n",
    "                          'infectious','injury', 'mental', 'misc', 'musculoskeletal pain', 'neoplasms','nervous', \n",
    "                          'perinatal', 'pregnancy', 'respiratory', 'skin']], \n",
    "                concat_notes, on = ['SUBJECT_ID'], how = 'left')"
   ]
  },
  {
   "cell_type": "code",
   "execution_count": 43,
   "metadata": {},
   "outputs": [
    {
     "data": {
      "text/html": [
       "<div>\n",
       "<style scoped>\n",
       "    .dataframe tbody tr th:only-of-type {\n",
       "        vertical-align: middle;\n",
       "    }\n",
       "\n",
       "    .dataframe tbody tr th {\n",
       "        vertical-align: top;\n",
       "    }\n",
       "\n",
       "    .dataframe thead th {\n",
       "        text-align: right;\n",
       "    }\n",
       "</style>\n",
       "<table border=\"1\" class=\"dataframe\">\n",
       "  <thead>\n",
       "    <tr style=\"text-align: right;\">\n",
       "      <th></th>\n",
       "      <th>SUBJECT_ID</th>\n",
       "      <th>HADM_ID</th>\n",
       "      <th>ADMITTIME</th>\n",
       "      <th>DISCHTIME</th>\n",
       "      <th>DAYS_NEXT_ADMIT</th>\n",
       "      <th>READMITTIME</th>\n",
       "      <th>READMISSION_TYPE</th>\n",
       "      <th>DEATHTIME</th>\n",
       "      <th>blood</th>\n",
       "      <th>circulatory</th>\n",
       "      <th>...</th>\n",
       "      <th>mental</th>\n",
       "      <th>misc</th>\n",
       "      <th>musculoskeletal pain</th>\n",
       "      <th>neoplasms</th>\n",
       "      <th>nervous</th>\n",
       "      <th>perinatal</th>\n",
       "      <th>pregnancy</th>\n",
       "      <th>respiratory</th>\n",
       "      <th>skin</th>\n",
       "      <th>TEXT_CONCAT</th>\n",
       "    </tr>\n",
       "  </thead>\n",
       "  <tbody>\n",
       "    <tr>\n",
       "      <th>0</th>\n",
       "      <td>3</td>\n",
       "      <td>145834</td>\n",
       "      <td>2101-10-20 19:08:00</td>\n",
       "      <td>2101-10-31 13:58:00</td>\n",
       "      <td>NaN</td>\n",
       "      <td>NaT</td>\n",
       "      <td>NaN</td>\n",
       "      <td>NaT</td>\n",
       "      <td>0</td>\n",
       "      <td>4</td>\n",
       "      <td>...</td>\n",
       "      <td>0</td>\n",
       "      <td>1</td>\n",
       "      <td>0</td>\n",
       "      <td>0</td>\n",
       "      <td>0</td>\n",
       "      <td>0</td>\n",
       "      <td>0</td>\n",
       "      <td>0</td>\n",
       "      <td>1</td>\n",
       "      <td>[**2101-10-6**] 6:02 PM\\n CHEST (PORTABLE AP) ...</td>\n",
       "    </tr>\n",
       "    <tr>\n",
       "      <th>1</th>\n",
       "      <td>4</td>\n",
       "      <td>185777</td>\n",
       "      <td>2191-03-16 00:28:00</td>\n",
       "      <td>2191-03-23 18:41:00</td>\n",
       "      <td>NaN</td>\n",
       "      <td>NaT</td>\n",
       "      <td>NaN</td>\n",
       "      <td>NaT</td>\n",
       "      <td>0</td>\n",
       "      <td>0</td>\n",
       "      <td>...</td>\n",
       "      <td>0</td>\n",
       "      <td>2</td>\n",
       "      <td>0</td>\n",
       "      <td>0</td>\n",
       "      <td>0</td>\n",
       "      <td>0</td>\n",
       "      <td>0</td>\n",
       "      <td>0</td>\n",
       "      <td>0</td>\n",
       "      <td>[**2191-3-15**] 4:20 PM\\n CHEST (PORTABLE AP) ...</td>\n",
       "    </tr>\n",
       "  </tbody>\n",
       "</table>\n",
       "<p>2 rows × 26 columns</p>\n",
       "</div>"
      ],
      "text/plain": [
       "   SUBJECT_ID  HADM_ID           ADMITTIME           DISCHTIME  \\\n",
       "0           3   145834 2101-10-20 19:08:00 2101-10-31 13:58:00   \n",
       "1           4   185777 2191-03-16 00:28:00 2191-03-23 18:41:00   \n",
       "\n",
       "   DAYS_NEXT_ADMIT READMITTIME READMISSION_TYPE DEATHTIME  blood  circulatory  \\\n",
       "0              NaN         NaT              NaN       NaT      0            4   \n",
       "1              NaN         NaT              NaN       NaT      0            0   \n",
       "\n",
       "   ...  mental  misc  musculoskeletal pain  neoplasms  nervous  perinatal  \\\n",
       "0  ...       0     1                     0          0        0          0   \n",
       "1  ...       0     2                     0          0        0          0   \n",
       "\n",
       "   pregnancy  respiratory  skin  \\\n",
       "0          0            0     1   \n",
       "1          0            0     0   \n",
       "\n",
       "                                         TEXT_CONCAT  \n",
       "0  [**2101-10-6**] 6:02 PM\\n CHEST (PORTABLE AP) ...  \n",
       "1  [**2191-3-15**] 4:20 PM\\n CHEST (PORTABLE AP) ...  \n",
       "\n",
       "[2 rows x 26 columns]"
      ]
     },
     "execution_count": 43,
     "metadata": {},
     "output_type": "execute_result"
    }
   ],
   "source": [
    "adm_diag_notes.head(2)"
   ]
  },
  {
   "cell_type": "code",
   "execution_count": 44,
   "metadata": {},
   "outputs": [],
   "source": [
    "#Creating a new binary column for readmission after and before 30 days\n",
    "adm_diag_notes['READMISSION'] = (adm_diag_notes.DAYS_NEXT_ADMIT < 30).astype('int')"
   ]
  },
  {
   "cell_type": "code",
   "execution_count": 45,
   "metadata": {},
   "outputs": [
    {
     "data": {
      "text/plain": [
       "0    42772\n",
       "1     2549\n",
       "Name: READMISSION, dtype: int64"
      ]
     },
     "execution_count": 45,
     "metadata": {},
     "output_type": "execute_result"
    }
   ],
   "source": [
    "adm_diag_notes['READMISSION'].value_counts()"
   ]
  },
  {
   "cell_type": "code",
   "execution_count": 46,
   "metadata": {},
   "outputs": [
    {
     "data": {
      "text/html": [
       "<div>\n",
       "<style scoped>\n",
       "    .dataframe tbody tr th:only-of-type {\n",
       "        vertical-align: middle;\n",
       "    }\n",
       "\n",
       "    .dataframe tbody tr th {\n",
       "        vertical-align: top;\n",
       "    }\n",
       "\n",
       "    .dataframe thead th {\n",
       "        text-align: right;\n",
       "    }\n",
       "</style>\n",
       "<table border=\"1\" class=\"dataframe\">\n",
       "  <thead>\n",
       "    <tr style=\"text-align: right;\">\n",
       "      <th></th>\n",
       "      <th>SUBJECT_ID</th>\n",
       "      <th>HADM_ID</th>\n",
       "      <th>ADMITTIME</th>\n",
       "      <th>DISCHTIME</th>\n",
       "      <th>DAYS_NEXT_ADMIT</th>\n",
       "      <th>READMITTIME</th>\n",
       "      <th>READMISSION_TYPE</th>\n",
       "      <th>DEATHTIME</th>\n",
       "      <th>blood</th>\n",
       "      <th>circulatory</th>\n",
       "      <th>...</th>\n",
       "      <th>misc</th>\n",
       "      <th>musculoskeletal pain</th>\n",
       "      <th>neoplasms</th>\n",
       "      <th>nervous</th>\n",
       "      <th>perinatal</th>\n",
       "      <th>pregnancy</th>\n",
       "      <th>respiratory</th>\n",
       "      <th>skin</th>\n",
       "      <th>TEXT_CONCAT</th>\n",
       "      <th>READMISSION</th>\n",
       "    </tr>\n",
       "  </thead>\n",
       "  <tbody>\n",
       "    <tr>\n",
       "      <th>12</th>\n",
       "      <td>23</td>\n",
       "      <td>152223</td>\n",
       "      <td>2153-09-03 07:15:00</td>\n",
       "      <td>2153-09-08 19:10:00</td>\n",
       "      <td>1501.016667</td>\n",
       "      <td>2157-10-18 19:34:00</td>\n",
       "      <td>EMERGENCY</td>\n",
       "      <td>NaT</td>\n",
       "      <td>0</td>\n",
       "      <td>4</td>\n",
       "      <td>...</td>\n",
       "      <td>0</td>\n",
       "      <td>0</td>\n",
       "      <td>0</td>\n",
       "      <td>1</td>\n",
       "      <td>0</td>\n",
       "      <td>0</td>\n",
       "      <td>0</td>\n",
       "      <td>0</td>\n",
       "      <td>[**2153-8-16**] 5:01 PM\\n CHEST (PRE-OP PA &amp; L...</td>\n",
       "      <td>0</td>\n",
       "    </tr>\n",
       "    <tr>\n",
       "      <th>13</th>\n",
       "      <td>23</td>\n",
       "      <td>124321</td>\n",
       "      <td>2157-10-18 19:34:00</td>\n",
       "      <td>2157-10-25 14:00:00</td>\n",
       "      <td>NaN</td>\n",
       "      <td>NaT</td>\n",
       "      <td>NaN</td>\n",
       "      <td>NaT</td>\n",
       "      <td>0</td>\n",
       "      <td>2</td>\n",
       "      <td>...</td>\n",
       "      <td>0</td>\n",
       "      <td>0</td>\n",
       "      <td>1</td>\n",
       "      <td>1</td>\n",
       "      <td>1</td>\n",
       "      <td>0</td>\n",
       "      <td>0</td>\n",
       "      <td>0</td>\n",
       "      <td>[**2153-8-16**] 5:01 PM\\n CHEST (PRE-OP PA &amp; L...</td>\n",
       "      <td>0</td>\n",
       "    </tr>\n",
       "  </tbody>\n",
       "</table>\n",
       "<p>2 rows × 27 columns</p>\n",
       "</div>"
      ],
      "text/plain": [
       "    SUBJECT_ID  HADM_ID           ADMITTIME           DISCHTIME  \\\n",
       "12          23   152223 2153-09-03 07:15:00 2153-09-08 19:10:00   \n",
       "13          23   124321 2157-10-18 19:34:00 2157-10-25 14:00:00   \n",
       "\n",
       "    DAYS_NEXT_ADMIT         READMITTIME READMISSION_TYPE DEATHTIME  blood  \\\n",
       "12      1501.016667 2157-10-18 19:34:00        EMERGENCY       NaT      0   \n",
       "13              NaN                 NaT              NaN       NaT      0   \n",
       "\n",
       "    circulatory  ...  misc  musculoskeletal pain  neoplasms  nervous  \\\n",
       "12            4  ...     0                     0          0        1   \n",
       "13            2  ...     0                     0          1        1   \n",
       "\n",
       "    perinatal  pregnancy  respiratory  skin  \\\n",
       "12          0          0            0     0   \n",
       "13          1          0            0     0   \n",
       "\n",
       "                                          TEXT_CONCAT  READMISSION  \n",
       "12  [**2153-8-16**] 5:01 PM\\n CHEST (PRE-OP PA & L...            0  \n",
       "13  [**2153-8-16**] 5:01 PM\\n CHEST (PRE-OP PA & L...            0  \n",
       "\n",
       "[2 rows x 27 columns]"
      ]
     },
     "execution_count": 46,
     "metadata": {},
     "output_type": "execute_result"
    }
   ],
   "source": [
    "adm_diag_notes.loc[adm_diag_notes.SUBJECT_ID==23]"
   ]
  },
  {
   "cell_type": "code",
   "execution_count": 47,
   "metadata": {},
   "outputs": [
    {
     "name": "stdout",
     "output_type": "stream",
     "text": [
      "Length of notes_squashed_temp1: 34560\n",
      "Length of notes_squashed_temp2: 34560\n"
     ]
    },
    {
     "name": "stderr",
     "output_type": "stream",
     "text": [
      "C:\\Users\\samsu\\Anaconda3\\lib\\site-packages\\pandas\\core\\frame.py:4117: SettingWithCopyWarning: \n",
      "A value is trying to be set on a copy of a slice from a DataFrame\n",
      "\n",
      "See the caveats in the documentation: http://pandas.pydata.org/pandas-docs/stable/user_guide/indexing.html#returning-a-view-versus-a-copy\n",
      "  errors=errors,\n",
      "C:\\Users\\samsu\\Anaconda3\\lib\\site-packages\\ipykernel_launcher.py:16: SettingWithCopyWarning: \n",
      "A value is trying to be set on a copy of a slice from a DataFrame\n",
      "\n",
      "See the caveats in the documentation: http://pandas.pydata.org/pandas-docs/stable/user_guide/indexing.html#returning-a-view-versus-a-copy\n",
      "  app.launch_new_instance()\n"
     ]
    }
   ],
   "source": [
    "#Copying the necessary columns in a new variable\n",
    "notes_squashed_temp1 = adm_diag_notes[['SUBJECT_ID', 'TEXT_CONCAT', 'READMISSION','blood', 'circulatory','congenital', \n",
    "                                       'digestive', 'endocrine', 'genitourinary','infectious','injury', 'mental', 'misc',\n",
    "                                       'musculoskeletal pain', 'neoplasms','nervous','perinatal','pregnancy', 'respiratory', 'skin']]\n",
    "\n",
    "#Summation of all the values in output label and also with unique subjects \n",
    "notes_squashed_temp2 = notes_squashed_temp1.groupby('SUBJECT_ID')[['READMISSION']].sum().reset_index()\n",
    "\n",
    "#Here if the value of output label is greater than 1, setting it to 1 otherwise 0\n",
    "notes_squashed_temp2['READMISSION'] = (notes_squashed_temp2['READMISSION'] >= 1).astype(int)\n",
    "\n",
    "#Dropping the old Readmission column so that we can merge both the temp datasets\n",
    "notes_squashed_temp1.drop(columns=['READMISSION'], inplace=True)\n",
    "\n",
    "#Removing extra obseravations of the same patients by keeping the first only \n",
    "notes_squashed_temp1.drop_duplicates(subset='SUBJECT_ID', keep='first', inplace=True)\n",
    "\n",
    "#Checking the number of observations in bothe the datasets before merging, They should be equal\n",
    "assert len(notes_squashed_temp2) == len(notes_squashed_temp1), 'Error'\n",
    "print('Length of notes_squashed_temp1:', len(notes_squashed_temp1))\n",
    "print('Length of notes_squashed_temp2:', len(notes_squashed_temp2))\n",
    "\n",
    "adm_diag_notes_merged = pd.merge(notes_squashed_temp2,notes_squashed_temp1,on = ['SUBJECT_ID'], how = 'left')"
   ]
  },
  {
   "cell_type": "code",
   "execution_count": 48,
   "metadata": {},
   "outputs": [
    {
     "data": {
      "text/plain": [
       "0    32621\n",
       "1     1939\n",
       "Name: READMISSION, dtype: int64"
      ]
     },
     "execution_count": 48,
     "metadata": {},
     "output_type": "execute_result"
    }
   ],
   "source": [
    "adm_diag_notes_merged[\"READMISSION\"].value_counts()"
   ]
  },
  {
   "cell_type": "code",
   "execution_count": 49,
   "metadata": {},
   "outputs": [
    {
     "data": {
      "text/html": [
       "<div>\n",
       "<style scoped>\n",
       "    .dataframe tbody tr th:only-of-type {\n",
       "        vertical-align: middle;\n",
       "    }\n",
       "\n",
       "    .dataframe tbody tr th {\n",
       "        vertical-align: top;\n",
       "    }\n",
       "\n",
       "    .dataframe thead th {\n",
       "        text-align: right;\n",
       "    }\n",
       "</style>\n",
       "<table border=\"1\" class=\"dataframe\">\n",
       "  <thead>\n",
       "    <tr style=\"text-align: right;\">\n",
       "      <th></th>\n",
       "      <th>SUBJECT_ID</th>\n",
       "      <th>READMISSION</th>\n",
       "      <th>TEXT_CONCAT</th>\n",
       "      <th>blood</th>\n",
       "      <th>circulatory</th>\n",
       "      <th>congenital</th>\n",
       "      <th>digestive</th>\n",
       "      <th>endocrine</th>\n",
       "      <th>genitourinary</th>\n",
       "      <th>infectious</th>\n",
       "      <th>injury</th>\n",
       "      <th>mental</th>\n",
       "      <th>misc</th>\n",
       "      <th>musculoskeletal pain</th>\n",
       "      <th>neoplasms</th>\n",
       "      <th>nervous</th>\n",
       "      <th>perinatal</th>\n",
       "      <th>pregnancy</th>\n",
       "      <th>respiratory</th>\n",
       "      <th>skin</th>\n",
       "    </tr>\n",
       "  </thead>\n",
       "  <tbody>\n",
       "    <tr>\n",
       "      <th>0</th>\n",
       "      <td>3</td>\n",
       "      <td>0</td>\n",
       "      <td>[**2101-10-6**] 6:02 PM\\n CHEST (PORTABLE AP) ...</td>\n",
       "      <td>0</td>\n",
       "      <td>4</td>\n",
       "      <td>0</td>\n",
       "      <td>0</td>\n",
       "      <td>1</td>\n",
       "      <td>1</td>\n",
       "      <td>1</td>\n",
       "      <td>0</td>\n",
       "      <td>0</td>\n",
       "      <td>1</td>\n",
       "      <td>0</td>\n",
       "      <td>0</td>\n",
       "      <td>0</td>\n",
       "      <td>0</td>\n",
       "      <td>0</td>\n",
       "      <td>0</td>\n",
       "      <td>1</td>\n",
       "    </tr>\n",
       "    <tr>\n",
       "      <th>1</th>\n",
       "      <td>4</td>\n",
       "      <td>0</td>\n",
       "      <td>[**2191-3-15**] 4:20 PM\\n CHEST (PORTABLE AP) ...</td>\n",
       "      <td>0</td>\n",
       "      <td>0</td>\n",
       "      <td>0</td>\n",
       "      <td>1</td>\n",
       "      <td>1</td>\n",
       "      <td>0</td>\n",
       "      <td>3</td>\n",
       "      <td>2</td>\n",
       "      <td>0</td>\n",
       "      <td>2</td>\n",
       "      <td>0</td>\n",
       "      <td>0</td>\n",
       "      <td>0</td>\n",
       "      <td>0</td>\n",
       "      <td>0</td>\n",
       "      <td>0</td>\n",
       "      <td>0</td>\n",
       "    </tr>\n",
       "    <tr>\n",
       "      <th>2</th>\n",
       "      <td>6</td>\n",
       "      <td>0</td>\n",
       "      <td>[**2175-5-25**] 10:52 AM\\n CHEST (PRE-OP PA &amp; ...</td>\n",
       "      <td>1</td>\n",
       "      <td>2</td>\n",
       "      <td>0</td>\n",
       "      <td>0</td>\n",
       "      <td>3</td>\n",
       "      <td>0</td>\n",
       "      <td>0</td>\n",
       "      <td>2</td>\n",
       "      <td>0</td>\n",
       "      <td>0</td>\n",
       "      <td>0</td>\n",
       "      <td>0</td>\n",
       "      <td>0</td>\n",
       "      <td>0</td>\n",
       "      <td>0</td>\n",
       "      <td>0</td>\n",
       "      <td>0</td>\n",
       "    </tr>\n",
       "    <tr>\n",
       "      <th>3</th>\n",
       "      <td>11</td>\n",
       "      <td>0</td>\n",
       "      <td>[**2178-4-16**] 5:01 AM\\n MR HEAD W &amp; W/O CONT...</td>\n",
       "      <td>0</td>\n",
       "      <td>0</td>\n",
       "      <td>0</td>\n",
       "      <td>0</td>\n",
       "      <td>0</td>\n",
       "      <td>0</td>\n",
       "      <td>0</td>\n",
       "      <td>0</td>\n",
       "      <td>0</td>\n",
       "      <td>0</td>\n",
       "      <td>0</td>\n",
       "      <td>1</td>\n",
       "      <td>0</td>\n",
       "      <td>0</td>\n",
       "      <td>0</td>\n",
       "      <td>0</td>\n",
       "      <td>0</td>\n",
       "    </tr>\n",
       "    <tr>\n",
       "      <th>4</th>\n",
       "      <td>13</td>\n",
       "      <td>0</td>\n",
       "      <td>CCU ADMISSION NPN 1900-0700: LEFT MAIN\\nHPI: I...</td>\n",
       "      <td>0</td>\n",
       "      <td>3</td>\n",
       "      <td>0</td>\n",
       "      <td>0</td>\n",
       "      <td>2</td>\n",
       "      <td>0</td>\n",
       "      <td>0</td>\n",
       "      <td>0</td>\n",
       "      <td>0</td>\n",
       "      <td>0</td>\n",
       "      <td>0</td>\n",
       "      <td>0</td>\n",
       "      <td>0</td>\n",
       "      <td>0</td>\n",
       "      <td>0</td>\n",
       "      <td>0</td>\n",
       "      <td>0</td>\n",
       "    </tr>\n",
       "    <tr>\n",
       "      <th>...</th>\n",
       "      <td>...</td>\n",
       "      <td>...</td>\n",
       "      <td>...</td>\n",
       "      <td>...</td>\n",
       "      <td>...</td>\n",
       "      <td>...</td>\n",
       "      <td>...</td>\n",
       "      <td>...</td>\n",
       "      <td>...</td>\n",
       "      <td>...</td>\n",
       "      <td>...</td>\n",
       "      <td>...</td>\n",
       "      <td>...</td>\n",
       "      <td>...</td>\n",
       "      <td>...</td>\n",
       "      <td>...</td>\n",
       "      <td>...</td>\n",
       "      <td>...</td>\n",
       "      <td>...</td>\n",
       "      <td>...</td>\n",
       "    </tr>\n",
       "    <tr>\n",
       "      <th>34555</th>\n",
       "      <td>99985</td>\n",
       "      <td>0</td>\n",
       "      <td>Sinus rhythm. Normal ECG. Since the previous t...</td>\n",
       "      <td>1</td>\n",
       "      <td>0</td>\n",
       "      <td>0</td>\n",
       "      <td>1</td>\n",
       "      <td>2</td>\n",
       "      <td>0</td>\n",
       "      <td>1</td>\n",
       "      <td>3</td>\n",
       "      <td>0</td>\n",
       "      <td>1</td>\n",
       "      <td>0</td>\n",
       "      <td>1</td>\n",
       "      <td>0</td>\n",
       "      <td>0</td>\n",
       "      <td>0</td>\n",
       "      <td>3</td>\n",
       "      <td>0</td>\n",
       "    </tr>\n",
       "    <tr>\n",
       "      <th>34556</th>\n",
       "      <td>99991</td>\n",
       "      <td>0</td>\n",
       "      <td>[**2184-12-27**] 11:35 AM\\n CHEST (PA &amp; LAT)  ...</td>\n",
       "      <td>0</td>\n",
       "      <td>2</td>\n",
       "      <td>0</td>\n",
       "      <td>5</td>\n",
       "      <td>2</td>\n",
       "      <td>1</td>\n",
       "      <td>1</td>\n",
       "      <td>3</td>\n",
       "      <td>0</td>\n",
       "      <td>2</td>\n",
       "      <td>1</td>\n",
       "      <td>0</td>\n",
       "      <td>0</td>\n",
       "      <td>0</td>\n",
       "      <td>0</td>\n",
       "      <td>0</td>\n",
       "      <td>0</td>\n",
       "    </tr>\n",
       "    <tr>\n",
       "      <th>34557</th>\n",
       "      <td>99992</td>\n",
       "      <td>0</td>\n",
       "      <td>[**2144-7-10**] 8:04 AM\\n CHEST PORT. LINE PLA...</td>\n",
       "      <td>1</td>\n",
       "      <td>1</td>\n",
       "      <td>0</td>\n",
       "      <td>5</td>\n",
       "      <td>1</td>\n",
       "      <td>1</td>\n",
       "      <td>0</td>\n",
       "      <td>1</td>\n",
       "      <td>1</td>\n",
       "      <td>0</td>\n",
       "      <td>1</td>\n",
       "      <td>0</td>\n",
       "      <td>0</td>\n",
       "      <td>0</td>\n",
       "      <td>0</td>\n",
       "      <td>0</td>\n",
       "      <td>0</td>\n",
       "    </tr>\n",
       "    <tr>\n",
       "      <th>34558</th>\n",
       "      <td>99995</td>\n",
       "      <td>0</td>\n",
       "      <td>[**2147-1-10**] 8:15 AM\\n CAROTID SERIES COMPL...</td>\n",
       "      <td>1</td>\n",
       "      <td>6</td>\n",
       "      <td>0</td>\n",
       "      <td>0</td>\n",
       "      <td>2</td>\n",
       "      <td>0</td>\n",
       "      <td>0</td>\n",
       "      <td>8</td>\n",
       "      <td>0</td>\n",
       "      <td>0</td>\n",
       "      <td>0</td>\n",
       "      <td>0</td>\n",
       "      <td>0</td>\n",
       "      <td>0</td>\n",
       "      <td>0</td>\n",
       "      <td>0</td>\n",
       "      <td>0</td>\n",
       "    </tr>\n",
       "    <tr>\n",
       "      <th>34559</th>\n",
       "      <td>99999</td>\n",
       "      <td>0</td>\n",
       "      <td>Sinus rhythm.  Normal tracing.  Compared to th...</td>\n",
       "      <td>0</td>\n",
       "      <td>2</td>\n",
       "      <td>1</td>\n",
       "      <td>0</td>\n",
       "      <td>1</td>\n",
       "      <td>0</td>\n",
       "      <td>0</td>\n",
       "      <td>0</td>\n",
       "      <td>0</td>\n",
       "      <td>1</td>\n",
       "      <td>0</td>\n",
       "      <td>0</td>\n",
       "      <td>0</td>\n",
       "      <td>0</td>\n",
       "      <td>0</td>\n",
       "      <td>0</td>\n",
       "      <td>0</td>\n",
       "    </tr>\n",
       "  </tbody>\n",
       "</table>\n",
       "<p>34560 rows × 20 columns</p>\n",
       "</div>"
      ],
      "text/plain": [
       "       SUBJECT_ID  READMISSION  \\\n",
       "0               3            0   \n",
       "1               4            0   \n",
       "2               6            0   \n",
       "3              11            0   \n",
       "4              13            0   \n",
       "...           ...          ...   \n",
       "34555       99985            0   \n",
       "34556       99991            0   \n",
       "34557       99992            0   \n",
       "34558       99995            0   \n",
       "34559       99999            0   \n",
       "\n",
       "                                             TEXT_CONCAT  blood  circulatory  \\\n",
       "0      [**2101-10-6**] 6:02 PM\\n CHEST (PORTABLE AP) ...      0            4   \n",
       "1      [**2191-3-15**] 4:20 PM\\n CHEST (PORTABLE AP) ...      0            0   \n",
       "2      [**2175-5-25**] 10:52 AM\\n CHEST (PRE-OP PA & ...      1            2   \n",
       "3      [**2178-4-16**] 5:01 AM\\n MR HEAD W & W/O CONT...      0            0   \n",
       "4      CCU ADMISSION NPN 1900-0700: LEFT MAIN\\nHPI: I...      0            3   \n",
       "...                                                  ...    ...          ...   \n",
       "34555  Sinus rhythm. Normal ECG. Since the previous t...      1            0   \n",
       "34556  [**2184-12-27**] 11:35 AM\\n CHEST (PA & LAT)  ...      0            2   \n",
       "34557  [**2144-7-10**] 8:04 AM\\n CHEST PORT. LINE PLA...      1            1   \n",
       "34558  [**2147-1-10**] 8:15 AM\\n CAROTID SERIES COMPL...      1            6   \n",
       "34559  Sinus rhythm.  Normal tracing.  Compared to th...      0            2   \n",
       "\n",
       "       congenital  digestive  endocrine  genitourinary  infectious  injury  \\\n",
       "0               0          0          1              1           1       0   \n",
       "1               0          1          1              0           3       2   \n",
       "2               0          0          3              0           0       2   \n",
       "3               0          0          0              0           0       0   \n",
       "4               0          0          2              0           0       0   \n",
       "...           ...        ...        ...            ...         ...     ...   \n",
       "34555           0          1          2              0           1       3   \n",
       "34556           0          5          2              1           1       3   \n",
       "34557           0          5          1              1           0       1   \n",
       "34558           0          0          2              0           0       8   \n",
       "34559           1          0          1              0           0       0   \n",
       "\n",
       "       mental  misc  musculoskeletal pain  neoplasms  nervous  perinatal  \\\n",
       "0           0     1                     0          0        0          0   \n",
       "1           0     2                     0          0        0          0   \n",
       "2           0     0                     0          0        0          0   \n",
       "3           0     0                     0          1        0          0   \n",
       "4           0     0                     0          0        0          0   \n",
       "...       ...   ...                   ...        ...      ...        ...   \n",
       "34555       0     1                     0          1        0          0   \n",
       "34556       0     2                     1          0        0          0   \n",
       "34557       1     0                     1          0        0          0   \n",
       "34558       0     0                     0          0        0          0   \n",
       "34559       0     1                     0          0        0          0   \n",
       "\n",
       "       pregnancy  respiratory  skin  \n",
       "0              0            0     1  \n",
       "1              0            0     0  \n",
       "2              0            0     0  \n",
       "3              0            0     0  \n",
       "4              0            0     0  \n",
       "...          ...          ...   ...  \n",
       "34555          0            3     0  \n",
       "34556          0            0     0  \n",
       "34557          0            0     0  \n",
       "34558          0            0     0  \n",
       "34559          0            0     0  \n",
       "\n",
       "[34560 rows x 20 columns]"
      ]
     },
     "execution_count": 49,
     "metadata": {},
     "output_type": "execute_result"
    }
   ],
   "source": [
    "adm_diag_notes_merged"
   ]
  },
  {
   "cell_type": "code",
   "execution_count": 50,
   "metadata": {},
   "outputs": [],
   "source": [
    "df = adm_diag_notes_merged.copy()"
   ]
  },
  {
   "cell_type": "code",
   "execution_count": 51,
   "metadata": {},
   "outputs": [
    {
     "name": "stdout",
     "output_type": "stream",
     "text": [
      "(34560, 3020)\n"
     ]
    }
   ],
   "source": [
    "import nltk\n",
    "from nltk import word_tokenize\n",
    "import string\n",
    "import re\n",
    "\n",
    "def preprocess_text(df):\n",
    "    # This function preprocesses the text by filling not a number and replacing new lines ('\\n') and carriage returns ('\\r')\n",
    "    df.TEXT_CONCAT = df.TEXT_CONCAT.fillna(' ')\n",
    "    df.TEXT_CONCAT =df.TEXT_CONCAT.str.replace('\\n',' ')\n",
    "    df.TEXT_CONCAT =df.TEXT_CONCAT.str.replace('\\r',' ')\n",
    "    return df\n",
    "\n",
    "df = preprocess_text(df)\n",
    "\n",
    "stopwords = nltk.corpus.stopwords.words('english')\n",
    "ps = nltk.PorterStemmer()\n",
    "wn = nltk.WordNetLemmatizer()\n",
    "\n",
    "def clean_textmain(text):\n",
    "    text = text.lower()\n",
    "    text =\"\".join([char for char in text if char not in string.punctuation ])\n",
    "    result = re.sub(r'[0-9]+','',text)\n",
    "    tokens = re.split('\\W+', result)\n",
    "    words = [word for word in tokens if word.isalpha()]\n",
    "    text1=[word for word in words if word not in string.digits]\n",
    "    text = [wn.lemmatize(word) for word in text1 if word not in stopwords]\n",
    "    return text\n",
    "\n",
    "from sklearn.feature_extraction.text import CountVectorizer\n",
    "vect = CountVectorizer(max_features = 3000,analyzer = clean_textmain)\n",
    "wordCount = vect.fit_transform(df['TEXT_CONCAT'].astype(str))\n",
    "\n",
    "wordCount_new =pd.DataFrame(wordCount.toarray())\n",
    "wordCount_new.columns = vect.get_feature_names()\n",
    "\n",
    "finalDf = df.join(wordCount_new,lsuffix='_caller', rsuffix='_other')\n",
    "#check the column count(should have 3000 more)\n",
    "print(finalDf.shape)\n",
    "\n",
    "#Removing TEXT_CONCAT as its not useful further\n",
    "finalDf = finalDf.drop(['TEXT_CONCAT'], axis=1)"
   ]
  },
  {
   "cell_type": "code",
   "execution_count": 80,
   "metadata": {},
   "outputs": [
    {
     "data": {
      "text/html": [
       "<div>\n",
       "<style scoped>\n",
       "    .dataframe tbody tr th:only-of-type {\n",
       "        vertical-align: middle;\n",
       "    }\n",
       "\n",
       "    .dataframe tbody tr th {\n",
       "        vertical-align: top;\n",
       "    }\n",
       "\n",
       "    .dataframe thead th {\n",
       "        text-align: right;\n",
       "    }\n",
       "</style>\n",
       "<table border=\"1\" class=\"dataframe\">\n",
       "  <thead>\n",
       "    <tr style=\"text-align: right;\">\n",
       "      <th></th>\n",
       "      <th>SUBJECT_ID</th>\n",
       "      <th>READMISSION</th>\n",
       "      <th>blood_caller</th>\n",
       "      <th>circulatory</th>\n",
       "      <th>congenital</th>\n",
       "      <th>digestive</th>\n",
       "      <th>endocrine_caller</th>\n",
       "      <th>genitourinary</th>\n",
       "      <th>infectious_caller</th>\n",
       "      <th>injury_caller</th>\n",
       "      <th>...</th>\n",
       "      <th>yeast</th>\n",
       "      <th>yellow</th>\n",
       "      <th>yes</th>\n",
       "      <th>yesterday</th>\n",
       "      <th>yet</th>\n",
       "      <th>yo</th>\n",
       "      <th>yr</th>\n",
       "      <th>zofran</th>\n",
       "      <th>zone</th>\n",
       "      <th>zosyn</th>\n",
       "    </tr>\n",
       "  </thead>\n",
       "  <tbody>\n",
       "    <tr>\n",
       "      <th>0</th>\n",
       "      <td>3</td>\n",
       "      <td>0</td>\n",
       "      <td>0</td>\n",
       "      <td>4</td>\n",
       "      <td>0</td>\n",
       "      <td>0</td>\n",
       "      <td>1</td>\n",
       "      <td>1</td>\n",
       "      <td>1</td>\n",
       "      <td>0</td>\n",
       "      <td>...</td>\n",
       "      <td>7</td>\n",
       "      <td>9</td>\n",
       "      <td>0</td>\n",
       "      <td>0</td>\n",
       "      <td>0</td>\n",
       "      <td>1</td>\n",
       "      <td>0</td>\n",
       "      <td>0</td>\n",
       "      <td>2</td>\n",
       "      <td>5</td>\n",
       "    </tr>\n",
       "    <tr>\n",
       "      <th>1</th>\n",
       "      <td>4</td>\n",
       "      <td>0</td>\n",
       "      <td>0</td>\n",
       "      <td>0</td>\n",
       "      <td>0</td>\n",
       "      <td>1</td>\n",
       "      <td>1</td>\n",
       "      <td>0</td>\n",
       "      <td>3</td>\n",
       "      <td>2</td>\n",
       "      <td>...</td>\n",
       "      <td>0</td>\n",
       "      <td>1</td>\n",
       "      <td>0</td>\n",
       "      <td>0</td>\n",
       "      <td>0</td>\n",
       "      <td>3</td>\n",
       "      <td>0</td>\n",
       "      <td>0</td>\n",
       "      <td>3</td>\n",
       "      <td>0</td>\n",
       "    </tr>\n",
       "    <tr>\n",
       "      <th>2</th>\n",
       "      <td>6</td>\n",
       "      <td>0</td>\n",
       "      <td>1</td>\n",
       "      <td>2</td>\n",
       "      <td>0</td>\n",
       "      <td>0</td>\n",
       "      <td>3</td>\n",
       "      <td>0</td>\n",
       "      <td>0</td>\n",
       "      <td>2</td>\n",
       "      <td>...</td>\n",
       "      <td>0</td>\n",
       "      <td>1</td>\n",
       "      <td>0</td>\n",
       "      <td>3</td>\n",
       "      <td>0</td>\n",
       "      <td>0</td>\n",
       "      <td>0</td>\n",
       "      <td>0</td>\n",
       "      <td>0</td>\n",
       "      <td>0</td>\n",
       "    </tr>\n",
       "  </tbody>\n",
       "</table>\n",
       "<p>3 rows × 3019 columns</p>\n",
       "</div>"
      ],
      "text/plain": [
       "   SUBJECT_ID  READMISSION  blood_caller  circulatory  congenital  digestive  \\\n",
       "0           3            0             0            4           0          0   \n",
       "1           4            0             0            0           0          1   \n",
       "2           6            0             1            2           0          0   \n",
       "\n",
       "   endocrine_caller  genitourinary  infectious_caller  injury_caller  ...  \\\n",
       "0                 1              1                  1              0  ...   \n",
       "1                 1              0                  3              2  ...   \n",
       "2                 3              0                  0              2  ...   \n",
       "\n",
       "   yeast  yellow  yes  yesterday  yet  yo  yr  zofran  zone  zosyn  \n",
       "0      7       9    0          0    0   1   0       0     2      5  \n",
       "1      0       1    0          0    0   3   0       0     3      0  \n",
       "2      0       1    0          3    0   0   0       0     0      0  \n",
       "\n",
       "[3 rows x 3019 columns]"
      ]
     },
     "execution_count": 80,
     "metadata": {},
     "output_type": "execute_result"
    }
   ],
   "source": [
    "finalDf.head(3)"
   ]
  },
  {
   "cell_type": "code",
   "execution_count": 81,
   "metadata": {},
   "outputs": [],
   "source": [
    "#finalDf.to_csv(r'C:\\Users\\samsu\\Desktop\\Spring 2020\\HAP 880\\Final project\\adm_diag_notes_merged.csv', index = False)"
   ]
  },
  {
   "cell_type": "code",
   "execution_count": 186,
   "metadata": {},
   "outputs": [],
   "source": [
    "finalDf = pd.read_csv(r'C:\\Users\\samsu\\Desktop\\Spring 2020\\HAP 880\\Final project\\adm_diag_notes_merged.csv')"
   ]
  },
  {
   "cell_type": "code",
   "execution_count": 156,
   "metadata": {},
   "outputs": [
    {
     "data": {
      "text/plain": [
       "(34560, 3019)"
      ]
     },
     "execution_count": 156,
     "metadata": {},
     "output_type": "execute_result"
    }
   ],
   "source": [
    "finalDf.shape"
   ]
  },
  {
   "cell_type": "code",
   "execution_count": 157,
   "metadata": {},
   "outputs": [
    {
     "name": "stdout",
     "output_type": "stream",
     "text": [
      "<class 'pandas.core.frame.DataFrame'>\n",
      "RangeIndex: 34560 entries, 0 to 34559\n",
      "Columns: 3019 entries, SUBJECT_ID to zosyn\n",
      "dtypes: int64(3019)\n",
      "memory usage: 796.0 MB\n"
     ]
    }
   ],
   "source": [
    "finalDf.info()"
   ]
  },
  {
   "cell_type": "code",
   "execution_count": 4,
   "metadata": {},
   "outputs": [
    {
     "data": {
      "text/html": [
       "<div>\n",
       "<style scoped>\n",
       "    .dataframe tbody tr th:only-of-type {\n",
       "        vertical-align: middle;\n",
       "    }\n",
       "\n",
       "    .dataframe tbody tr th {\n",
       "        vertical-align: top;\n",
       "    }\n",
       "\n",
       "    .dataframe thead th {\n",
       "        text-align: right;\n",
       "    }\n",
       "</style>\n",
       "<table border=\"1\" class=\"dataframe\">\n",
       "  <thead>\n",
       "    <tr style=\"text-align: right;\">\n",
       "      <th></th>\n",
       "      <th>SUBJECT_ID</th>\n",
       "      <th>READMISSION</th>\n",
       "      <th>blood_caller</th>\n",
       "      <th>circulatory</th>\n",
       "      <th>congenital</th>\n",
       "      <th>digestive</th>\n",
       "      <th>endocrine_caller</th>\n",
       "      <th>genitourinary</th>\n",
       "      <th>infectious_caller</th>\n",
       "      <th>injury_caller</th>\n",
       "      <th>...</th>\n",
       "      <th>yeast</th>\n",
       "      <th>yellow</th>\n",
       "      <th>yes</th>\n",
       "      <th>yesterday</th>\n",
       "      <th>yet</th>\n",
       "      <th>yo</th>\n",
       "      <th>yr</th>\n",
       "      <th>zofran</th>\n",
       "      <th>zone</th>\n",
       "      <th>zosyn</th>\n",
       "    </tr>\n",
       "  </thead>\n",
       "  <tbody>\n",
       "    <tr>\n",
       "      <th>0</th>\n",
       "      <td>3</td>\n",
       "      <td>0</td>\n",
       "      <td>0</td>\n",
       "      <td>4</td>\n",
       "      <td>0</td>\n",
       "      <td>0</td>\n",
       "      <td>1</td>\n",
       "      <td>1</td>\n",
       "      <td>1</td>\n",
       "      <td>0</td>\n",
       "      <td>...</td>\n",
       "      <td>7</td>\n",
       "      <td>9</td>\n",
       "      <td>0</td>\n",
       "      <td>0</td>\n",
       "      <td>0</td>\n",
       "      <td>1</td>\n",
       "      <td>0</td>\n",
       "      <td>0</td>\n",
       "      <td>2</td>\n",
       "      <td>5</td>\n",
       "    </tr>\n",
       "    <tr>\n",
       "      <th>1</th>\n",
       "      <td>4</td>\n",
       "      <td>0</td>\n",
       "      <td>0</td>\n",
       "      <td>0</td>\n",
       "      <td>0</td>\n",
       "      <td>1</td>\n",
       "      <td>1</td>\n",
       "      <td>0</td>\n",
       "      <td>3</td>\n",
       "      <td>2</td>\n",
       "      <td>...</td>\n",
       "      <td>0</td>\n",
       "      <td>1</td>\n",
       "      <td>0</td>\n",
       "      <td>0</td>\n",
       "      <td>0</td>\n",
       "      <td>3</td>\n",
       "      <td>0</td>\n",
       "      <td>0</td>\n",
       "      <td>3</td>\n",
       "      <td>0</td>\n",
       "    </tr>\n",
       "    <tr>\n",
       "      <th>2</th>\n",
       "      <td>6</td>\n",
       "      <td>0</td>\n",
       "      <td>1</td>\n",
       "      <td>2</td>\n",
       "      <td>0</td>\n",
       "      <td>0</td>\n",
       "      <td>3</td>\n",
       "      <td>0</td>\n",
       "      <td>0</td>\n",
       "      <td>2</td>\n",
       "      <td>...</td>\n",
       "      <td>0</td>\n",
       "      <td>1</td>\n",
       "      <td>0</td>\n",
       "      <td>3</td>\n",
       "      <td>0</td>\n",
       "      <td>0</td>\n",
       "      <td>0</td>\n",
       "      <td>0</td>\n",
       "      <td>0</td>\n",
       "      <td>0</td>\n",
       "    </tr>\n",
       "  </tbody>\n",
       "</table>\n",
       "<p>3 rows × 3019 columns</p>\n",
       "</div>"
      ],
      "text/plain": [
       "   SUBJECT_ID  READMISSION  blood_caller  circulatory  congenital  digestive  \\\n",
       "0           3            0             0            4           0          0   \n",
       "1           4            0             0            0           0          1   \n",
       "2           6            0             1            2           0          0   \n",
       "\n",
       "   endocrine_caller  genitourinary  infectious_caller  injury_caller  ...  \\\n",
       "0                 1              1                  1              0  ...   \n",
       "1                 1              0                  3              2  ...   \n",
       "2                 3              0                  0              2  ...   \n",
       "\n",
       "   yeast  yellow  yes  yesterday  yet  yo  yr  zofran  zone  zosyn  \n",
       "0      7       9    0          0    0   1   0       0     2      5  \n",
       "1      0       1    0          0    0   3   0       0     3      0  \n",
       "2      0       1    0          3    0   0   0       0     0      0  \n",
       "\n",
       "[3 rows x 3019 columns]"
      ]
     },
     "execution_count": 4,
     "metadata": {},
     "output_type": "execute_result"
    }
   ],
   "source": [
    "finalDf.head(3)"
   ]
  },
  {
   "cell_type": "code",
   "execution_count": 12,
   "metadata": {},
   "outputs": [
    {
     "data": {
      "text/plain": [
       "<matplotlib.axes._subplots.AxesSubplot at 0x1f5b6139780>"
      ]
     },
     "execution_count": 12,
     "metadata": {},
     "output_type": "execute_result"
    },
    {
     "data": {
      "image/png": "[encoded data removed]",
      "text/plain": [
       "<Figure size 432x288 with 1 Axes>"
      ]
     },
     "metadata": {
      "needs_background": "light"
     },
     "output_type": "display_data"
    }
   ],
   "source": [
    "count = finalDf.READMISSION.value_counts()\n",
    "count.plot.bar()"
   ]
  },
  {
   "cell_type": "code",
   "execution_count": 5,
   "metadata": {},
   "outputs": [],
   "source": [
    "X_train, X_test, y_train, y_test = train_test_split(finalDf.drop(['READMISSION'], axis=1), finalDf['READMISSION'],\n",
    "                                                    test_size=0.2, random_state=30)"
   ]
  },
  {
   "cell_type": "code",
   "execution_count": 187,
   "metadata": {},
   "outputs": [
    {
     "data": {
      "text/plain": [
       "0    26081\n",
       "1     1567\n",
       "Name: READMISSION, dtype: int64"
      ]
     },
     "execution_count": 187,
     "metadata": {},
     "output_type": "execute_result"
    }
   ],
   "source": [
    "#The class is clearly imbalanced here\n",
    "y_train.value_counts()"
   ]
  },
  {
   "cell_type": "code",
   "execution_count": 6,
   "metadata": {},
   "outputs": [
    {
     "name": "stderr",
     "output_type": "stream",
     "text": [
      "C:\\Users\\samsu\\Anaconda3\\lib\\site-packages\\sklearn\\linear_model\\_logistic.py:939: ConvergenceWarning: lbfgs failed to converge (status=1):\n",
      "STOP: TOTAL NO. of ITERATIONS REACHED LIMIT.\n",
      "\n",
      "Increase the number of iterations (max_iter) or scale the data as shown in:\n",
      "    https://scikit-learn.org/stable/modules/preprocessing.html.\n",
      "Please also refer to the documentation for alternative solver options:\n",
      "    https://scikit-learn.org/stable/modules/linear_model.html#logistic-regression\n",
      "  extra_warning_msg=_LOGISTIC_SOLVER_CONVERGENCE_MSG)\n"
     ]
    }
   ],
   "source": [
    "#To balance the class setting class_weight parameter as balanced\n",
    "lr = LogisticRegression(C = 0.1, penalty = 'l2', random_state = 30,class_weight=\"balanced\",max_iter=500)\n",
    "lr.fit(X_train, y_train)\n",
    "lrPredProbs_tr = lr.predict_proba(X_train)\n",
    "lrPredProbs_ts = lr.predict_proba(X_test)\n",
    "lrPred_tr = lr.predict(X_train)\n",
    "lrPred_ts = lr.predict(X_test)\n",
    "lrFpr_tr, lrTpr_tr, lrThresh_tr = roc_curve(y_train, lrPredProbs_tr[:,1])\n",
    "lrFpr_ts, lrTpr_ts, lrThresh_ts = roc_curve(y_test, lrPredProbs_ts[:,1])"
   ]
  },
  {
   "cell_type": "code",
   "execution_count": 7,
   "metadata": {},
   "outputs": [
    {
     "name": "stdout",
     "output_type": "stream",
     "text": [
      "Train Accuracy:0.830\n",
      "Test Accuracy:0.816\n",
      "Train Recall:0.884\n",
      "Test Recall:0.750\n",
      "Train Precision:0.234\n",
      "Test Precision:0.191\n",
      "Train AUC:0.931\n",
      "Test AUC:0.844\n"
     ]
    }
   ],
   "source": [
    "print('Train Accuracy:%.3f'%accuracy_score(y_train, lrPred_tr))\n",
    "print('Test Accuracy:%.3f'%accuracy_score(y_test, lrPred_ts))\n",
    "print('Train Recall:%.3f'%recall_score(y_train, lrPred_tr))\n",
    "print('Test Recall:%.3f'%recall_score(y_test, lrPred_ts))\n",
    "print('Train Precision:%.3f'%precision_score(y_train, lrPred_tr))\n",
    "print('Test Precision:%.3f'%precision_score(y_test, lrPred_ts))\n",
    "print('Train AUC:%.3f'%roc_auc_score(y_train, lrPredProbs_tr[:,1]))\n",
    "print('Test AUC:%.3f'%roc_auc_score(y_test, lrPredProbs_ts[:,1]))"
   ]
  },
  {
   "cell_type": "code",
   "execution_count": 9,
   "metadata": {},
   "outputs": [
    {
     "data": {
      "image/png": "[encoded data removed]",
      "text/plain": [
       "<Figure size 432x288 with 1 Axes>"
      ]
     },
     "metadata": {
      "needs_background": "light"
     },
     "output_type": "display_data"
    }
   ],
   "source": [
    "plt.figure()\n",
    "plt.plot(lrFpr_tr, lrTpr_tr, color='darkorange',lw=2, label='Train ROC curve (auc = %0.2f)' %roc_auc_score(y_train, lrPredProbs_tr[:,1]))\n",
    "plt.plot(lrFpr_ts, lrTpr_ts, color='red',lw=2, label='Test ROC curve (auc = %0.2f)' %roc_auc_score(y_test, lrPredProbs_ts[:,1]))\n",
    "plt.plot([0, 1], [0, 1], color='navy', lw=2, linestyle='--')\n",
    "plt.xlim([0.0, 1.0])\n",
    "plt.ylim([0.0, 1.05])\n",
    "plt.xlabel('False Positive Rate')\n",
    "plt.ylabel('True Positive Rate')\n",
    "plt.title('Receiver operating characteristic example')\n",
    "plt.legend(loc=\"lower right\")\n",
    "plt.show()"
   ]
  },
  {
   "cell_type": "code",
   "execution_count": 8,
   "metadata": {},
   "outputs": [
    {
     "data": {
      "text/plain": [
       "array([[5359, 1181],\n",
       "       [  93,  279]], dtype=int64)"
      ]
     },
     "execution_count": 8,
     "metadata": {},
     "output_type": "execute_result"
    }
   ],
   "source": [
    "confusion_matrix(y_test, lrPred_ts)"
   ]
  },
  {
   "cell_type": "code",
   "execution_count": 59,
   "metadata": {},
   "outputs": [],
   "source": [
    "#True positive (TP): Prediction is X should Readmit and X did, we want that\n",
    "#True negative (TN): Prediction is X should not Readmit and X did not, we want that too\n",
    "#False positive (FP): Prediction is X should Readmit and X did not, false alarm, bad\n",
    "#False negative (FN): Prediction is X should not Readmit and X did, the worst"
   ]
  },
  {
   "cell_type": "code",
   "execution_count": 60,
   "metadata": {},
   "outputs": [],
   "source": [
    "#Recall/Sensitivity = TP/(TP+FN)--Appropriate for minimizing false negatives\n",
    "#Specificity = TN/(TN+FP)--Appropriate for minimizing false negatives\n",
    "#Both should be balanced but we want FN to decrease with the cost of increase in FPs\n",
    "#So after looking at the math we can have low specificity if FP inceases while achieving High Recall.\n",
    "#I am tuning the model for better Recall."
   ]
  },
  {
   "cell_type": "code",
   "execution_count": 61,
   "metadata": {},
   "outputs": [
    {
     "name": "stdout",
     "output_type": "stream",
     "text": [
      "{'C': (0.1, 0.2, 0.3, 0.4, 0.5, 0.6, 0.7, 0.8, 1),\n",
      " 'class_weight': ['balanced', 'none']}\n"
     ]
    }
   ],
   "source": [
    "from pprint import pprint\n",
    "C=(0.1,0.2,0.3,0.4,0.5,0.6,0.7,0.8,1)\n",
    "class_weight = ['balanced','none']\n",
    "\n",
    "# Create the random grid\n",
    "random_grid = {'C':C,'class_weight': class_weight}\n",
    "pprint(random_grid)"
   ]
  },
  {
   "cell_type": "code",
   "execution_count": 62,
   "metadata": {},
   "outputs": [
    {
     "name": "stdout",
     "output_type": "stream",
     "text": [
      "Fitting 3 folds for each of 10 candidates, totalling 30 fits\n"
     ]
    },
    {
     "name": "stderr",
     "output_type": "stream",
     "text": [
      "[Parallel(n_jobs=-1)]: Using backend LokyBackend with 8 concurrent workers.\n",
      "[Parallel(n_jobs=-1)]: Done  30 out of  30 | elapsed: 154.7min finished\n",
      "C:\\Users\\samsu\\Anaconda3\\lib\\site-packages\\sklearn\\linear_model\\_logistic.py:939: ConvergenceWarning: lbfgs failed to converge (status=1):\n",
      "STOP: TOTAL NO. of ITERATIONS REACHED LIMIT.\n",
      "\n",
      "Increase the number of iterations (max_iter) or scale the data as shown in:\n",
      "    https://scikit-learn.org/stable/modules/preprocessing.html.\n",
      "Please also refer to the documentation for alternative solver options:\n",
      "    https://scikit-learn.org/stable/modules/linear_model.html#logistic-regression\n",
      "  extra_warning_msg=_LOGISTIC_SOLVER_CONVERGENCE_MSG)\n"
     ]
    }
   ],
   "source": [
    "#logistic = LogisticRegression(max_iter=4000,penalty='l2')\n",
    "#lr_random = RandomizedSearchCV(estimator = logistic, param_distributions = random_grid,\n",
    "#                               n_iter = 10,scoring='recall',cv= 3,verbose=2,random_state=30, n_jobs = -1)\n",
    "#bestFit = lr_random.fit(X_train,y_train)"
   ]
  },
  {
   "cell_type": "code",
   "execution_count": 63,
   "metadata": {},
   "outputs": [
    {
     "data": {
      "text/plain": [
       "{'class_weight': 'balanced', 'C': 0.1}"
      ]
     },
     "execution_count": 63,
     "metadata": {},
     "output_type": "execute_result"
    }
   ],
   "source": [
    "bestFit.best_params_"
   ]
  },
  {
   "cell_type": "code",
   "execution_count": 10,
   "metadata": {},
   "outputs": [
    {
     "name": "stderr",
     "output_type": "stream",
     "text": [
      "C:\\Users\\samsu\\Anaconda3\\lib\\site-packages\\sklearn\\linear_model\\_logistic.py:939: ConvergenceWarning: lbfgs failed to converge (status=1):\n",
      "STOP: TOTAL NO. of ITERATIONS REACHED LIMIT.\n",
      "\n",
      "Increase the number of iterations (max_iter) or scale the data as shown in:\n",
      "    https://scikit-learn.org/stable/modules/preprocessing.html.\n",
      "Please also refer to the documentation for alternative solver options:\n",
      "    https://scikit-learn.org/stable/modules/linear_model.html#logistic-regression\n",
      "  extra_warning_msg=_LOGISTIC_SOLVER_CONVERGENCE_MSG)\n"
     ]
    }
   ],
   "source": [
    "#Running the model based on best paramters\n",
    "lr1 = LogisticRegression(C=0.1,max_iter=4000,class_weight ='balanced',penalty='l2',random_state=30)\n",
    "lr1.fit(X_train,y_train)\n",
    "lr1PredProbs_tr = lr1.predict_proba(X_train)\n",
    "lr1PredProbs_ts = lr1.predict_proba(X_test)\n",
    "lr1Pred_tr = lr1.predict(X_train)\n",
    "lr1Pred_ts = lr1.predict(X_test)\n",
    "lr1Fpr_tr, lr1Tpr_tr, lr1Thresh_tr = roc_curve(y_train, lr1PredProbs_tr[:,1])\n",
    "lr1Fpr_ts, lr1Tpr_ts, lr1Thresh_ts = roc_curve(y_test, lr1PredProbs_ts[:,1])"
   ]
  },
  {
   "cell_type": "code",
   "execution_count": 11,
   "metadata": {},
   "outputs": [
    {
     "name": "stdout",
     "output_type": "stream",
     "text": [
      "Train Accuracy:0.937\n",
      "Test Accuracy:0.901\n",
      "Train Recall:0.985\n",
      "Test Recall:0.546\n",
      "Train Precision:0.471\n",
      "Test Precision:0.282\n",
      "Train AUC:0.986\n",
      "Test AUC:0.753\n"
     ]
    }
   ],
   "source": [
    "print('Train Accuracy:%.3f'%accuracy_score(y_train, lr1Pred_tr))\n",
    "print('Test Accuracy:%.3f'%accuracy_score(y_test, lr1Pred_ts))\n",
    "print('Train Recall:%.3f'%recall_score(y_train, lr1Pred_tr))\n",
    "print('Test Recall:%.3f'%recall_score(y_test, lr1Pred_ts))\n",
    "print('Train Precision:%.3f'%precision_score(y_train, lr1Pred_tr))\n",
    "print('Test Precision:%.3f'%precision_score(y_test, lr1Pred_ts))\n",
    "print('Train AUC:%.3f'%roc_auc_score(y_train, lr1PredProbs_tr[:,1]))\n",
    "print('Test AUC:%.3f'%roc_auc_score(y_test, lr1PredProbs_ts[:,1]))"
   ]
  },
  {
   "cell_type": "code",
   "execution_count": 12,
   "metadata": {},
   "outputs": [
    {
     "data": {
      "image/png": "[encoded data removed]",
      "text/plain": [
       "<Figure size 432x288 with 1 Axes>"
      ]
     },
     "metadata": {
      "needs_background": "light"
     },
     "output_type": "display_data"
    }
   ],
   "source": [
    "plt.figure()\n",
    "plt.plot(lr1Fpr_tr, lr1Tpr_tr, color='darkorange',lw=2, label='Train ROC curve (auc = %0.2f)' %roc_auc_score(y_train, lr1PredProbs_tr[:,1]))\n",
    "plt.plot(lr1Fpr_ts, lr1Tpr_ts, color='red',lw=2, label='Test ROC curve (auc = %0.2f)' %roc_auc_score(y_test, lr1PredProbs_ts[:,1]))\n",
    "plt.plot([0, 1], [0, 1], color='navy', lw=2, linestyle='--')\n",
    "plt.xlim([0.0, 1.0])\n",
    "plt.ylim([0.0, 1.05])\n",
    "plt.xlabel('False Positive Rate')\n",
    "plt.ylabel('True Positive Rate')\n",
    "plt.title('Receiver operating characteristic example')\n",
    "plt.legend(loc=\"lower right\")\n",
    "plt.show()"
   ]
  },
  {
   "cell_type": "code",
   "execution_count": 13,
   "metadata": {},
   "outputs": [
    {
     "data": {
      "text/plain": [
       "array([[6023,  517],\n",
       "       [ 169,  203]], dtype=int64)"
      ]
     },
     "execution_count": 13,
     "metadata": {},
     "output_type": "execute_result"
    }
   ],
   "source": [
    "confusion_matrix(y_test, lr1Pred_ts)"
   ]
  },
  {
   "cell_type": "code",
   "execution_count": 14,
   "metadata": {},
   "outputs": [],
   "source": [
    "rf = RandomForestClassifier(random_state = 30,class_weight='balanced')\n",
    "rf.fit(X_train, y_train)\n",
    "rfPredProbs_tr = rf.predict_proba(X_train)\n",
    "rfPredProbs_ts = rf.predict_proba(X_test)\n",
    "rfPred_tr = rf.predict(X_train)\n",
    "rfPred_ts = rf.predict(X_test)\n",
    "rfFpr_tr, rfTpr_tr, rfThresh_tr = roc_curve(y_train, rfPredProbs_tr[:,1])\n",
    "rfFpr_ts, rfTpr_ts, rfThresh_ts = roc_curve(y_test, rfPredProbs_ts[:,1])"
   ]
  },
  {
   "cell_type": "code",
   "execution_count": 15,
   "metadata": {},
   "outputs": [
    {
     "name": "stdout",
     "output_type": "stream",
     "text": [
      "Train Accuracy:1.000\n",
      "Test Accuracy:0.949\n",
      "Train Recall:1.000\n",
      "Test Recall:0.118\n",
      "Train Precision:1.000\n",
      "Test Precision:0.638\n",
      "Train AUC:1.000\n",
      "Test AUC:0.940\n"
     ]
    }
   ],
   "source": [
    "print('Train Accuracy:%.3f'%accuracy_score(y_train, rfPred_tr))\n",
    "print('Test Accuracy:%.3f'%accuracy_score(y_test, rfPred_ts))\n",
    "print('Train Recall:%.3f'%recall_score(y_train, rfPred_tr))\n",
    "print('Test Recall:%.3f'%recall_score(y_test, rfPred_ts))\n",
    "print('Train Precision:%.3f'%precision_score(y_train, rfPred_tr))\n",
    "print('Test Precision:%.3f'%precision_score(y_test, rfPred_ts))\n",
    "print('Train AUC:%.3f'%roc_auc_score(y_train, rfPredProbs_tr[:,1]))\n",
    "print('Test AUC:%.3f'%roc_auc_score(y_test, rfPredProbs_ts[:,1]))"
   ]
  },
  {
   "cell_type": "code",
   "execution_count": 16,
   "metadata": {},
   "outputs": [
    {
     "data": {
      "image/png": "[encoded data removed]",
      "text/plain": [
       "<Figure size 432x288 with 1 Axes>"
      ]
     },
     "metadata": {
      "needs_background": "light"
     },
     "output_type": "display_data"
    }
   ],
   "source": [
    "plt.figure()\n",
    "plt.plot(rfFpr_tr, rfTpr_tr, color='darkorange',lw=2, label='Train ROC curve (auc = %0.2f)' %roc_auc_score(y_train, rfPredProbs_tr[:,1]))\n",
    "plt.plot(rfFpr_ts, rfTpr_ts, color='red',lw=2, label='Test ROC curve (auc = %0.2f)' %roc_auc_score(y_test, rfPredProbs_ts[:,1]))\n",
    "plt.plot([0, 1], [0, 1], color='navy', lw=2, linestyle='--')\n",
    "plt.xlim([0.0, 1.0])\n",
    "plt.ylim([0.0, 1.05])\n",
    "plt.xlabel('False Positive Rate')\n",
    "plt.ylabel('True Positive Rate')\n",
    "plt.title('Receiver operating characteristic example')\n",
    "plt.legend(loc=\"lower right\")\n",
    "plt.show()"
   ]
  },
  {
   "cell_type": "code",
   "execution_count": 17,
   "metadata": {},
   "outputs": [
    {
     "data": {
      "text/plain": [
       "array([[6515,   25],\n",
       "       [ 328,   44]], dtype=int64)"
      ]
     },
     "execution_count": 17,
     "metadata": {},
     "output_type": "execute_result"
    }
   ],
   "source": [
    "confusion_matrix(y_test, rfPred_ts)"
   ]
  },
  {
   "cell_type": "code",
   "execution_count": 65,
   "metadata": {},
   "outputs": [
    {
     "name": "stdout",
     "output_type": "stream",
     "text": [
      "{'bootstrap': [True, False],\n",
      " 'class_weight': ['balanced', 'balanced_subsample'],\n",
      " 'max_depth': [10, 20, 30, 40, 50, 60, 70, 80, 90, 100, 110, None],\n",
      " 'max_features': ['auto', 'sqrt'],\n",
      " 'min_samples_leaf': [1, 2, 4],\n",
      " 'min_samples_split': [2, 5, 10],\n",
      " 'n_estimators': [200, 400, 600, 800, 1000, 1200, 1400, 1600, 1800, 2000]}\n"
     ]
    }
   ],
   "source": [
    "# Number of trees in random forest\n",
    "n_estimators = [int(x) for x in np.linspace(start = 200, stop = 2000, num = 10)]\n",
    "# Number of features to consider at every split\n",
    "max_features = ['auto', 'sqrt']\n",
    "# Maximum number of levels in tree\n",
    "max_depth = [int(x) for x in np.linspace(10, 110, num = 11)]\n",
    "max_depth.append(None)\n",
    "# Minimum number of samples required to split a node\n",
    "min_samples_split = [2, 5, 10]\n",
    "# Minimum number of samples required at each leaf node\n",
    "min_samples_leaf = [1, 2, 4]\n",
    "# Method of selecting samples for training each tree\n",
    "bootstrap = [True, False]\n",
    "#Balancing the output labels\n",
    "class_weight = ['balanced','balanced_subsample']\n",
    "# Create the random grid\n",
    "random_grid = {'n_estimators': n_estimators,\n",
    "               'max_features': max_features,\n",
    "               'max_depth': max_depth,\n",
    "               'min_samples_split': min_samples_split,\n",
    "               'min_samples_leaf': min_samples_leaf,\n",
    "               'bootstrap': bootstrap,\n",
    "               'class_weight': class_weight}\n",
    "pprint(random_grid)"
   ]
  },
  {
   "cell_type": "code",
   "execution_count": 66,
   "metadata": {},
   "outputs": [
    {
     "name": "stdout",
     "output_type": "stream",
     "text": [
      "Fitting 3 folds for each of 100 candidates, totalling 300 fits\n"
     ]
    },
    {
     "name": "stderr",
     "output_type": "stream",
     "text": [
      "[Parallel(n_jobs=-1)]: Using backend LokyBackend with 8 concurrent workers.\n",
      "[Parallel(n_jobs=-1)]: Done  25 tasks      | elapsed: 32.6min\n",
      "[Parallel(n_jobs=-1)]: Done 146 tasks      | elapsed: 154.2min\n",
      "[Parallel(n_jobs=-1)]: Done 300 out of 300 | elapsed: 302.5min finished\n"
     ]
    }
   ],
   "source": [
    "#randomForest = RandomForestClassifier()\n",
    "#rf_random = RandomizedSearchCV(estimator = randomForest, param_distributions = random_grid, \n",
    "#                               n_iter = 100,scoring='recall',cv= 3,verbose=2, random_state=30, n_jobs = -1)\n",
    "#bestFitRf = rf_random.fit(X_train,y_train)"
   ]
  },
  {
   "cell_type": "code",
   "execution_count": 67,
   "metadata": {},
   "outputs": [
    {
     "data": {
      "text/plain": [
       "{'n_estimators': 800,\n",
       " 'min_samples_split': 10,\n",
       " 'min_samples_leaf': 4,\n",
       " 'max_features': 'sqrt',\n",
       " 'max_depth': 10,\n",
       " 'class_weight': 'balanced_subsample',\n",
       " 'bootstrap': True}"
      ]
     },
     "execution_count": 67,
     "metadata": {},
     "output_type": "execute_result"
    }
   ],
   "source": [
    "bestFitRf.best_params_"
   ]
  },
  {
   "cell_type": "code",
   "execution_count": 18,
   "metadata": {},
   "outputs": [],
   "source": [
    "rf1 = RandomForestClassifier(n_estimators=800,min_samples_split=10,min_samples_leaf=4,max_features='sqrt',max_depth=10,\n",
    "                             class_weight='balanced_subsample',bootstrap= True,n_jobs = -1,random_state = 30)\n",
    "rf1.fit(X_train, y_train)\n",
    "rf1PredProbs_tr = rf1.predict_proba(X_train)\n",
    "rf1PredProbs_ts = rf1.predict_proba(X_test)\n",
    "rf1Pred_tr = rf1.predict(X_train)\n",
    "rf1Pred_ts = rf1.predict(X_test)\n",
    "rf1Fpr_tr, rf1Tpr_tr, rf1Thresh_tr = roc_curve(y_train, rf1PredProbs_tr[:,1])\n",
    "rf1Fpr_ts, rf1Tpr_ts, rf1Thresh_ts = roc_curve(y_test, rf1PredProbs_ts[:,1])"
   ]
  },
  {
   "cell_type": "code",
   "execution_count": 19,
   "metadata": {},
   "outputs": [
    {
     "name": "stdout",
     "output_type": "stream",
     "text": [
      "Train Accuracy:0.930\n",
      "Test Accuracy:0.910\n",
      "Train Recall:0.986\n",
      "Test Recall:0.804\n",
      "Train Precision:0.446\n",
      "Test Precision:0.353\n",
      "Train AUC:0.990\n",
      "Test AUC:0.944\n"
     ]
    }
   ],
   "source": [
    "print('Train Accuracy:%.3f'%accuracy_score(y_train, rf1Pred_tr))\n",
    "print('Test Accuracy:%.3f'%accuracy_score(y_test, rf1Pred_ts))\n",
    "print('Train Recall:%.3f'%recall_score(y_train, rf1Pred_tr))\n",
    "print('Test Recall:%.3f'%recall_score(y_test, rf1Pred_ts))\n",
    "print('Train Precision:%.3f'%precision_score(y_train, rf1Pred_tr))\n",
    "print('Test Precision:%.3f'%precision_score(y_test, rf1Pred_ts))\n",
    "print('Train AUC:%.3f'%roc_auc_score(y_train, rf1PredProbs_tr[:,1]))\n",
    "print('Test AUC:%.3f'%roc_auc_score(y_test, rf1PredProbs_ts[:,1]))"
   ]
  },
  {
   "cell_type": "code",
   "execution_count": 20,
   "metadata": {},
   "outputs": [
    {
     "data": {
      "image/png": "[encoded data removed]",
      "text/plain": [
       "<Figure size 432x288 with 1 Axes>"
      ]
     },
     "metadata": {
      "needs_background": "light"
     },
     "output_type": "display_data"
    }
   ],
   "source": [
    "plt.figure()\n",
    "plt.plot(rf1Fpr_tr, rf1Tpr_tr, color='darkorange',lw=2, label='Train ROC curve (auc = %0.2f)' %roc_auc_score(y_train, rf1PredProbs_tr[:,1]))\n",
    "plt.plot(rf1Fpr_ts, rf1Tpr_ts, color='red',lw=2, label='Test ROC curve (auc = %0.2f)' %roc_auc_score(y_test, rf1PredProbs_ts[:,1]))\n",
    "plt.plot([0, 1], [0, 1], color='navy', lw=2, linestyle='--')\n",
    "plt.xlim([0.0, 1.0])\n",
    "plt.ylim([0.0, 1.05])\n",
    "plt.xlabel('False Positive Rate')\n",
    "plt.ylabel('True Positive Rate')\n",
    "plt.title('Receiver operating characteristic example')\n",
    "plt.legend(loc=\"lower right\")\n",
    "plt.show()"
   ]
  },
  {
   "cell_type": "code",
   "execution_count": 21,
   "metadata": {},
   "outputs": [
    {
     "data": {
      "text/plain": [
       "array([[5992,  548],\n",
       "       [  73,  299]], dtype=int64)"
      ]
     },
     "execution_count": 21,
     "metadata": {},
     "output_type": "execute_result"
    }
   ],
   "source": [
    "confusion_matrix(y_test, rf1Pred_ts)"
   ]
  },
  {
   "cell_type": "code",
   "execution_count": 207,
   "metadata": {},
   "outputs": [
    {
     "data": {
      "image/png": "[encoded data removed]",
      "text/plain": [
       "<Figure size 720x432 with 1 Axes>"
      ]
     },
     "metadata": {
      "needs_background": "light"
     },
     "output_type": "display_data"
    }
   ],
   "source": [
    "feature_names = X_train.columns\n",
    "feature_imports = rf1.feature_importances_\n",
    "most_imp_features = pd.DataFrame([f for f in zip(feature_names,feature_imports)], columns=[\"Feature\", \"Importance\"]).nlargest(10, \"Importance\")\n",
    "most_imp_features.sort_values(by=\"Importance\", inplace=True)\n",
    "plt.figure(figsize=(10,6))\n",
    "plt.barh(range(len(most_imp_features)), most_imp_features.Importance, align='center', alpha=0.8)\n",
    "plt.yticks(range(len(most_imp_features)), most_imp_features.Feature, fontsize=14)\n",
    "plt.xlabel('Importance')\n",
    "plt.title('Most important features - Random Forest ')\n",
    "plt.show()"
   ]
  },
  {
   "cell_type": "code",
   "execution_count": null,
   "metadata": {},
   "outputs": [],
   "source": [
    "#spanning over 2000 trees adding 100 at a time \n",
    "list_a = []\n",
    "for n in range(100,2100,100):\n",
    "    rf2 = RandomForestClassifier(n_estimators = n,n_jobs=-1)\n",
    "    rf2.fit(X_train,y_train)\n",
    "    probs = rf2.predict_proba(X_test)[:,1]\n",
    "    a=roc_auc_score(y_test, probs)\n",
    "    print(a)\n",
    "    list_a.append(a)"
   ]
  },
  {
   "cell_type": "code",
   "execution_count": 69,
   "metadata": {},
   "outputs": [
    {
     "data": {
      "image/png": "[encoded data removed]",
      "text/plain": [
       "<Figure size 432x288 with 1 Axes>"
      ]
     },
     "metadata": {
      "needs_background": "light"
     },
     "output_type": "display_data"
    }
   ],
   "source": [
    "plt.plot(list(range(100,2100,100)),list_a)\n",
    "plt.title('Random Forest')\n",
    "plt.xlabel('No. of Estimators')\n",
    "plt.ylabel('AUC_values')\n",
    "plt.show()"
   ]
  },
  {
   "cell_type": "code",
   "execution_count": 96,
   "metadata": {},
   "outputs": [],
   "source": [
    "cols = X_train.columns\n",
    "rank = pd.DataFrame()\n",
    "rank['columnNames'] = cols\n",
    "rank['values'] = rf1.feature_importances_"
   ]
  },
  {
   "cell_type": "code",
   "execution_count": null,
   "metadata": {},
   "outputs": [],
   "source": [
    "#Adding 100 predictors at a time\n",
    "list_b = []\n",
    "x = len(rank.index)+100\n",
    "for i in range(100,x,100):\n",
    "    c = list(rank[1:i]['columnNames'])\n",
    "    rf2 = RandomForestClassifier(n_estimators=150, n_jobs=-1)\n",
    "    rf2.fit(X_train[c],y_train)\n",
    "    probs = rf2.predict_proba(X_test[c])[:,1]\n",
    "    a=roc_auc_score(y_test, probs)\n",
    "    #print(a)\n",
    "    list_b.append(a)"
   ]
  },
  {
   "cell_type": "code",
   "execution_count": 98,
   "metadata": {},
   "outputs": [
    {
     "data": {
      "image/png": "[encoded data removed]",
      "text/plain": [
       "<Figure size 432x288 with 1 Axes>"
      ]
     },
     "metadata": {
      "needs_background": "light"
     },
     "output_type": "display_data"
    }
   ],
   "source": [
    "plt.plot(list(range(100,x,100)),list_b)\n",
    "plt.title('Random Forest')\n",
    "plt.xlabel('No. of Predictors')\n",
    "plt.ylabel('AUC_values')\n",
    "plt.show()"
   ]
  },
  {
   "cell_type": "code",
   "execution_count": null,
   "metadata": {},
   "outputs": [],
   "source": [
    "#adding 100 attributes at a time with 100 observations\n",
    "size = []\n",
    "auc_rf = []\n",
    "y = len(X_train)+1000\n",
    "for i in range(100,x,100):\n",
    "    for j in range(100, 1100, 100):\n",
    "        s = int(j/1000.0*len(X_train.index))\n",
    "        size.append(s)\n",
    "        #print(s)\n",
    "        c = list(rank[:i]['columnNames'])\n",
    "        #print(c)\n",
    "        rf2 = RandomForestClassifier(n_estimators=100,n_jobs=-1)\n",
    "        rf2.fit(X_train[:s][c],y_train[:s])\n",
    "        probs = rf2.predict_proba(X_test[c])[:,1]\n",
    "        a=roc_auc_score(y_test, probs)\n",
    "        #print(a)\n",
    "        auc_rf.append(a)"
   ]
  },
  {
   "cell_type": "code",
   "execution_count": 100,
   "metadata": {},
   "outputs": [],
   "source": [
    "b=[]\n",
    "for i in range(100,x,100):\n",
    "    for j in range(100, 1100, 100):\n",
    "        c = list(rank[:i]['columnNames'])\n",
    "        a = len(c)\n",
    "        b.append(a)"
   ]
  },
  {
   "cell_type": "code",
   "execution_count": 101,
   "metadata": {},
   "outputs": [
    {
     "name": "stdout",
     "output_type": "stream",
     "text": [
      "310\n",
      "310\n",
      "310\n"
     ]
    }
   ],
   "source": [
    "print(len(b))\n",
    "print(len(auc_rf))\n",
    "print(len(size))"
   ]
  },
  {
   "cell_type": "code",
   "execution_count": 104,
   "metadata": {},
   "outputs": [
    {
     "data": {
      "text/plain": [
       "Text(0.5, 0, 'AUC_values')"
      ]
     },
     "execution_count": 104,
     "metadata": {},
     "output_type": "execute_result"
    },
    {
     "data": {
      "image/png": "[encoded data removed]",
      "text/plain": [
       "<Figure size 432x288 with 1 Axes>"
      ]
     },
     "metadata": {
      "needs_background": "light"
     },
     "output_type": "display_data"
    }
   ],
   "source": [
    "#X-axis represents the size of the attributes 100 at a time for 2700 rows .\n",
    "#Y-axis represents the size of the data.\n",
    "#Z-axis represents the AUC values.\n",
    "from mpl_toolkits.mplot3d import Axes3D\n",
    "from mpl_toolkits import mplot3d\n",
    "ax = plt.axes(projection='3d')\n",
    "ax.plot_trisurf(b,size,auc_rf, cmap='viridis', edgecolor='none')\n",
    "plt.title('Random Forest')\n",
    "ax.set_xlabel('No. of Predictors')\n",
    "ax.set_ylabel('Data_Size')\n",
    "ax.set_zlabel('AUC_values')"
   ]
  },
  {
   "cell_type": "code",
   "execution_count": 139,
   "metadata": {},
   "outputs": [
    {
     "data": {
      "text/plain": [
       "<matplotlib.legend.Legend at 0x1b43b68e0f0>"
      ]
     },
     "execution_count": 139,
     "metadata": {},
     "output_type": "execute_result"
    },
    {
     "data": {
      "image/png": "[encoded data removed]",
      "text/plain": [
       "<Figure size 432x288 with 1 Axes>"
      ]
     },
     "metadata": {
      "needs_background": "light"
     },
     "output_type": "display_data"
    }
   ],
   "source": [
    "#Caliberation Curves before caliberating the Model\n",
    "from sklearn.calibration import CalibratedClassifierCV, calibration_curve\n",
    "lr1Pred_tr_probs = lr1.predict_proba(X_train)[:,1]\n",
    "lr1Pred_ts_probs = lr1.predict_proba(X_test)[:,1]\n",
    "rf1Pred_tr_probs = rf1.predict_proba(X_train)[:,1]\n",
    "rf1Pred_ts_probs = rf1.predict_proba(X_test)[:,1]\n",
    "\n",
    "cur_lr_tr = calibration_curve(y_train,lr1Pred_tr_probs, n_bins=10)\n",
    "cur_lr_ts = calibration_curve(y_test,lr1Pred_ts_probs, n_bins=10)\n",
    "cur_rf_tr = calibration_curve(y_train,rf1Pred_tr_probs, n_bins=10)\n",
    "cur_rf_ts = calibration_curve(y_test,rf1Pred_ts_probs, n_bins=10)\n",
    "\n",
    "plt.plot(cur_lr_tr[1],cur_lr_tr[0],label='Train Logistic')\n",
    "plt.plot(cur_lr_ts[1],cur_lr_ts[0],label='Test Logistic')\n",
    "plt.plot(cur_rf_tr[1],cur_rf_tr[0],label='Train Random Forest')\n",
    "plt.plot(cur_rf_ts[1],cur_rf_ts[0],label='Test Random Forest')\n",
    "plt.plot([0, 1], [0, 1], color='navy', lw=2, linestyle='--')\n",
    "plt.legend(loc=\"lower right\")"
   ]
  },
  {
   "cell_type": "code",
   "execution_count": null,
   "metadata": {},
   "outputs": [],
   "source": [
    "#In calibration we try to improve our model such that the distribution and behavior of the probability predicted \n",
    "#is similar to the distribution and behavior of probability observed in training data."
   ]
  },
  {
   "cell_type": "code",
   "execution_count": 121,
   "metadata": {},
   "outputs": [
    {
     "data": {
      "text/plain": [
       "<matplotlib.legend.Legend at 0x1b43fa62cf8>"
      ]
     },
     "execution_count": 121,
     "metadata": {},
     "output_type": "execute_result"
    },
    {
     "data": {
      "image/png": "[encoded data removed]",
      "text/plain": [
       "<Figure size 432x288 with 1 Axes>"
      ]
     },
     "metadata": {
      "needs_background": "light"
     },
     "output_type": "display_data"
    }
   ],
   "source": [
    "#Caliberating Random Forest\n",
    "rf_iso = CalibratedClassifierCV(rf1, cv=5, method='isotonic')\n",
    "rf_sig = CalibratedClassifierCV(rf1, cv=5, method='sigmoid')\n",
    "\n",
    "rf_iso.fit(X_train, y_train)\n",
    "rf_sig.fit(X_train, y_train)\n",
    "\n",
    "probs_rf_tr_iso = rf_iso.predict_proba(X_train)[:,1]\n",
    "probs_rf_ts_iso = rf_iso.predict_proba(X_test)[:,1]\n",
    "probs_rf_tr_sig = rf_sig.predict_proba(X_train)[:,1]\n",
    "probs_rf_ts_sig = rf_sig.predict_proba(X_test)[:,1]\n",
    "\n",
    "cur_rf_tr_iso = calibration_curve(y_train,probs_rf_tr_iso, n_bins=10)\n",
    "cur_rf_ts_iso = calibration_curve(y_test,probs_rf_ts_iso, n_bins=10)\n",
    "cur_rf_tr_sig = calibration_curve(y_train,probs_rf_tr_sig, n_bins=10)\n",
    "cur_rf_ts_sig = calibration_curve(y_test,probs_rf_ts_sig, n_bins=10)\n",
    "\n",
    "plt.plot(cur_rf_tr_iso[1],cur_rf_tr_iso[0],label='Train Isotonic')\n",
    "plt.plot(cur_rf_ts_iso[1],cur_rf_ts_iso[0],label='Test Isotonic')\n",
    "plt.plot(cur_rf_tr_sig[1],cur_rf_tr_sig[0],label='Train Sigmoid')\n",
    "plt.plot(cur_rf_ts_sig[1],cur_rf_ts_sig[0],label='Test Sigmoid')\n",
    "plt.plot([0, 1], [0, 1], color='navy', lw=2, linestyle='--')\n",
    "plt.legend(loc=\"lower right\")"
   ]
  },
  {
   "cell_type": "code",
   "execution_count": 132,
   "metadata": {},
   "outputs": [
    {
     "data": {
      "text/plain": [
       "(array([6009.,  245.,  182.,  146.,  122.,   87.,   78.,   43.,    0.,\n",
       "           0.]),\n",
       " array([0. , 0.1, 0.2, 0.3, 0.4, 0.5, 0.6, 0.7, 0.8, 0.9, 1. ]),\n",
       " <a list of 1 Patch objects>)"
      ]
     },
     "execution_count": 132,
     "metadata": {},
     "output_type": "execute_result"
    },
    {
     "data": {
      "image/png": "[encoded data removed]",
      "text/plain": [
       "<Figure size 432x288 with 1 Axes>"
      ]
     },
     "metadata": {
      "needs_background": "light"
     },
     "output_type": "display_data"
    }
   ],
   "source": [
    "plt.hist(probs_rf_tr_iso, range=(0, 1), bins=10, histtype=\"step\", lw=2)\n",
    "plt.hist(probs_rf_tr_sig, range=(0, 1), bins=10, histtype=\"step\", lw=2)\n",
    "plt.hist(probs_rf_ts_iso, range=(0, 1), bins=10, histtype=\"step\", lw=2)\n",
    "plt.hist(probs_rf_ts_sig, range=(0, 1), bins=10, histtype=\"step\", lw=2)"
   ]
  },
  {
   "cell_type": "code",
   "execution_count": null,
   "metadata": {
    "scrolled": true
   },
   "outputs": [],
   "source": [
    "#Caliberating Random Forest\n",
    "lr_iso = CalibratedClassifierCV(lr1, cv=5, method='isotonic')\n",
    "lr_sig = CalibratedClassifierCV(lr1, cv=5, method='sigmoid')\n",
    "\n",
    "lr_iso.fit(X_train, y_train)\n",
    "lr_sig.fit(X_train, y_train)\n",
    "\n",
    "probs_lr_tr_iso = lr_iso.predict_proba(X_train)[:,1]\n",
    "probs_lr_ts_iso = lr_iso.predict_proba(X_test)[:,1]\n",
    "probs_lr_tr_sig = lr_sig.predict_proba(X_train)[:,1]\n",
    "probs_lr_ts_sig = lr_sig.predict_proba(X_test)[:,1]\n",
    "\n",
    "cur_lr_tr_iso = calibration_curve(y_train,probs_lr_tr_iso, n_bins=10)\n",
    "cur_lr_ts_iso = calibration_curve(y_test,probs_lr_ts_iso, n_bins=10)\n",
    "cur_lr_tr_sig = calibration_curve(y_train,probs_lr_tr_sig, n_bins=10)\n",
    "cur_lr_ts_sig = calibration_curve(y_test,probs_lr_ts_sig, n_bins=10)"
   ]
  },
  {
   "cell_type": "code",
   "execution_count": 150,
   "metadata": {},
   "outputs": [
    {
     "data": {
      "text/plain": [
       "<matplotlib.legend.Legend at 0x1b43ea62908>"
      ]
     },
     "execution_count": 150,
     "metadata": {},
     "output_type": "execute_result"
    },
    {
     "data": {
      "image/png": "[encoded data removed]",
      "text/plain": [
       "<Figure size 432x288 with 1 Axes>"
      ]
     },
     "metadata": {
      "needs_background": "light"
     },
     "output_type": "display_data"
    }
   ],
   "source": [
    "plt.plot(cur_lr_tr_iso[1],cur_lr_tr_iso[0],label='Train Isotonic')\n",
    "plt.plot(cur_lr_ts_iso[1],cur_lr_ts_iso[0],label='Test Isotonic')\n",
    "plt.plot(cur_lr_tr_sig[1],cur_lr_tr_sig[0],label='Train Sigmoid')\n",
    "plt.plot(cur_lr_ts_sig[1],cur_lr_ts_sig[0],label='Test Sigmoid')\n",
    "plt.plot([0, 1], [0, 1], color='navy', lw=2, linestyle='--')\n",
    "plt.legend(loc=\"lower right\")"
   ]
  },
  {
   "cell_type": "code",
   "execution_count": 158,
   "metadata": {},
   "outputs": [
    {
     "data": {
      "text/plain": [
       "(array([6.505e+03, 2.600e+02, 5.800e+01, 3.300e+01, 1.300e+01, 1.300e+01,\n",
       "        8.000e+00, 9.000e+00, 7.000e+00, 6.000e+00]),\n",
       " array([0. , 0.1, 0.2, 0.3, 0.4, 0.5, 0.6, 0.7, 0.8, 0.9, 1. ]),\n",
       " <a list of 1 Patch objects>)"
      ]
     },
     "execution_count": 158,
     "metadata": {},
     "output_type": "execute_result"
    },
    {
     "data": {
      "image/png": "[encoded data removed]",
      "text/plain": [
       "<Figure size 432x288 with 1 Axes>"
      ]
     },
     "metadata": {
      "needs_background": "light"
     },
     "output_type": "display_data"
    }
   ],
   "source": [
    "plt.hist(probs_lr_tr_iso, range=(0, 1), bins=10, histtype=\"step\", lw=2)\n",
    "plt.hist(probs_lr_tr_sig, range=(0, 1), bins=10, histtype=\"step\", lw=2)\n",
    "plt.hist(probs_lr_ts_iso, range=(0, 1), bins=10, histtype=\"step\", lw=2)\n",
    "plt.hist(probs_lr_ts_sig, range=(0, 1), bins=10, histtype=\"step\", lw=2)"
   ]
  },
  {
   "cell_type": "code",
   "execution_count": null,
   "metadata": {},
   "outputs": [],
   "source": [
    "#Neural Network"
   ]
  },
  {
   "cell_type": "code",
   "execution_count": 176,
   "metadata": {},
   "outputs": [
    {
     "name": "stderr",
     "output_type": "stream",
     "text": [
      "Using TensorFlow backend.\n"
     ]
    }
   ],
   "source": [
    "import tensorflow as tf\n",
    "from tensorflow import keras\n",
    "from tensorflow import feature_column\n",
    "from tensorflow.keras import layers\n",
    "import keras.backend as K"
   ]
  },
  {
   "cell_type": "code",
   "execution_count": 23,
   "metadata": {},
   "outputs": [
    {
     "data": {
      "text/plain": [
       "(27648, 3018)"
      ]
     },
     "execution_count": 23,
     "metadata": {},
     "output_type": "execute_result"
    }
   ],
   "source": [
    "X_train.shape"
   ]
  },
  {
   "cell_type": "code",
   "execution_count": 196,
   "metadata": {
    "scrolled": true
   },
   "outputs": [
    {
     "name": "stdout",
     "output_type": "stream",
     "text": [
      "Train on 27648 samples\n",
      "Epoch 1/10\n",
      "27648/27648 [==============================] - 9s 312us/sample - loss: 15.3233 - accuracy: 0.8859\n",
      "Epoch 2/10\n",
      "27648/27648 [==============================] - 5s 189us/sample - loss: 2.2022 - accuracy: 0.9091\n",
      "Epoch 3/10\n",
      "27648/27648 [==============================] - 8s 275us/sample - loss: 0.7729 - accuracy: 0.9256\n",
      "Epoch 4/10\n",
      "27648/27648 [==============================] - 5s 194us/sample - loss: 0.4292 - accuracy: 0.9351\n",
      "Epoch 5/10\n",
      "27648/27648 [==============================] - 7s 236us/sample - loss: 0.2510 - accuracy: 0.9435\n",
      "Epoch 6/10\n",
      "27648/27648 [==============================] - 6s 226us/sample - loss: 0.1612 - accuracy: 0.9507\n",
      "Epoch 7/10\n",
      "27648/27648 [==============================] - 6s 208us/sample - loss: 0.1528 - accuracy: 0.9519\n",
      "Epoch 8/10\n",
      "27648/27648 [==============================] - 7s 266us/sample - loss: 0.1473 - accuracy: 0.9525\n",
      "Epoch 9/10\n",
      "27648/27648 [==============================] - 6s 207us/sample - loss: 0.1422 - accuracy: 0.9538\n",
      "Epoch 10/10\n",
      "27648/27648 [==============================] - 6s 230us/sample - loss: 0.1368 - accuracy: 0.9553\n"
     ]
    },
    {
     "data": {
      "text/plain": [
       "<tensorflow.python.keras.callbacks.History at 0x175328c8ef0>"
      ]
     },
     "execution_count": 196,
     "metadata": {},
     "output_type": "execute_result"
    }
   ],
   "source": [
    "model = tf.keras.models.Sequential()\n",
    "model.add(tf.keras.layers.Dense(180, activation= 'relu', input_shape=(3018,)))\n",
    "model.add(tf.keras.layers.Dense(110, activation= 'relu'))\n",
    "model.add(tf.keras.layers.Dense(2, activation= 'softmax'))\n",
    "model.compile(optimizer=tf.keras.optimizers.Adam(), loss = 'sparse_categorical_crossentropy',metrics=['accuracy'])\n",
    "model.fit(X_train.values,y_train.values,epochs = 10)"
   ]
  },
  {
   "cell_type": "code",
   "execution_count": 197,
   "metadata": {},
   "outputs": [
    {
     "name": "stdout",
     "output_type": "stream",
     "text": [
      "Model: \"sequential_18\"\n",
      "_________________________________________________________________\n",
      "Layer (type)                 Output Shape              Param #   \n",
      "=================================================================\n",
      "dense_54 (Dense)             (None, 180)               543420    \n",
      "_________________________________________________________________\n",
      "dense_55 (Dense)             (None, 110)               19910     \n",
      "_________________________________________________________________\n",
      "dense_56 (Dense)             (None, 2)                 222       \n",
      "=================================================================\n",
      "Total params: 563,552\n",
      "Trainable params: 563,552\n",
      "Non-trainable params: 0\n",
      "_________________________________________________________________\n"
     ]
    }
   ],
   "source": [
    "model.summary()"
   ]
  },
  {
   "cell_type": "code",
   "execution_count": 198,
   "metadata": {},
   "outputs": [],
   "source": [
    "pred_tr = model.predict(X_train.values)\n",
    "pred_ts = model.predict(X_test.values)"
   ]
  },
  {
   "cell_type": "code",
   "execution_count": 199,
   "metadata": {},
   "outputs": [
    {
     "name": "stdout",
     "output_type": "stream",
     "text": [
      "Train Accuracy:0.956\n",
      "Test Accuracy:0.947\n",
      "Train Recall:0.605\n",
      "Test Recall:0.489\n",
      "Train Precision:0.614\n",
      "Test Precision:0.508\n",
      "Train AUC:0.956\n",
      "Test AUC:0.919\n"
     ]
    }
   ],
   "source": [
    "Fpr_tr, Tpr_tr, Thresh_tr = roc_curve(y_train, pred_tr[:,1])\n",
    "Fpr_ts, Tpr_ts, Thresh_ts = roc_curve(y_test, pred_ts[:,1])\n",
    "print('Train Accuracy:%.3f'%accuracy_score(y_train, pred_tr.argmax(1)))\n",
    "print('Test Accuracy:%.3f'%accuracy_score(y_test, pred_ts.argmax(1)))\n",
    "print('Train Recall:%.3f'%recall_score(y_train, pred_tr.argmax(1)))\n",
    "print('Test Recall:%.3f'%recall_score(y_test, pred_ts.argmax(1)))\n",
    "print('Train Precision:%.3f'%precision_score(y_train, pred_tr.argmax(1)))\n",
    "print('Test Precision:%.3f'%precision_score(y_test, pred_ts.argmax(1)))\n",
    "print('Train AUC:%.3f'%roc_auc_score(y_train, pred_tr[:,1]))\n",
    "print('Test AUC:%.3f'%roc_auc_score(y_test, pred_ts[:,1]))"
   ]
  },
  {
   "cell_type": "code",
   "execution_count": 200,
   "metadata": {},
   "outputs": [
    {
     "data": {
      "text/plain": [
       "array([[6364,  176],\n",
       "       [ 190,  182]], dtype=int64)"
      ]
     },
     "execution_count": 200,
     "metadata": {},
     "output_type": "execute_result"
    }
   ],
   "source": [
    "confusion_matrix(y_test, pred_ts.argmax(1))"
   ]
  },
  {
   "cell_type": "code",
   "execution_count": 201,
   "metadata": {},
   "outputs": [
    {
     "data": {
      "image/png": "[encoded data removed]",
      "text/plain": [
       "<Figure size 432x288 with 1 Axes>"
      ]
     },
     "metadata": {
      "needs_background": "light"
     },
     "output_type": "display_data"
    }
   ],
   "source": [
    "plt.figure()\n",
    "plt.plot(Fpr_tr, Tpr_tr, color='darkorange',lw=2, label='Train ROC curve (auc = %0.2f)'%roc_auc_score(y_train, pred_tr[:,1]))\n",
    "plt.plot(Fpr_ts, Tpr_ts, color='red',lw=2, label='Test ROC curve (auc = %0.2f)'%roc_auc_score(y_test, pred_ts[:,1]))\n",
    "plt.plot([0, 1], [0, 1], color='navy', lw=2, linestyle='--')\n",
    "plt.xlim([0.0, 1.0])\n",
    "plt.ylim([0.0, 1.05])\n",
    "plt.xlabel('False Positive Rate')\n",
    "plt.ylabel('True Positive Rate')\n",
    "plt.title('Receiver operating characteristic example')\n",
    "plt.legend(loc=\"lower right\")\n",
    "plt.show()"
   ]
  },
  {
   "cell_type": "code",
   "execution_count": 204,
   "metadata": {},
   "outputs": [],
   "source": [
    "results = [['Logistic Regression','%.2f'%accuracy_score(y_test, lrPred_ts),'%.2f'%roc_auc_score(y_test, lrPredProbs_ts[:,1]),'%.2f'%recall_score(y_test, lrPred_ts),'%.2f'%precision_score(y_test, lrPred_ts),confusion_matrix(y_test, lrPred_ts)],\n",
    "           ['Tuned Logistic Regression','%.2f'%accuracy_score(y_test, lr1Pred_ts),'%.2f'%roc_auc_score(y_test, lr1PredProbs_ts[:,1]),'%.2f'%recall_score(y_test, lr1Pred_ts),'%.2f'%precision_score(y_test, lr1Pred_ts),confusion_matrix(y_test, lr1Pred_ts)],\n",
    "           ['Random Forest','%.2f'%accuracy_score(y_test, rfPred_ts),'%.2f'%roc_auc_score(y_test, rfPredProbs_ts[:,1]),'%.2f'%recall_score(y_test, rfPred_ts),'%.2f'%precision_score(y_test, rfPred_ts),confusion_matrix(y_test, rfPred_ts)],\n",
    "           ['Tuned Random Forest','%.2f'%accuracy_score(y_test, rf1Pred_ts),'%.2f'%roc_auc_score(y_test, rf1PredProbs_ts[:,1]),'%.2f'%recall_score(y_test, rf1Pred_ts),'%.2f'%precision_score(y_test, rf1Pred_ts),confusion_matrix(y_test, rf1Pred_ts)],\n",
    "           ['Neural Network','%.2f'%accuracy_score(y_test, pred_ts.argmax(1)),'%.2f'%roc_auc_score(y_test, pred_ts[:,1]),'%.2f'%recall_score(y_test, pred_ts.argmax(1)),'%.2f'%precision_score(y_test, pred_ts.argmax(1)),confusion_matrix(y_test, pred_ts.argmax(1))]]\n",
    "resultsDf = pd.DataFrame(results,columns=['Model','Accuracy', 'AUC','Recall','Precision','Confusion Matrix'])"
   ]
  },
  {
   "cell_type": "code",
   "execution_count": 205,
   "metadata": {},
   "outputs": [
    {
     "data": {
      "text/html": [
       "<div>\n",
       "<style scoped>\n",
       "    .dataframe tbody tr th:only-of-type {\n",
       "        vertical-align: middle;\n",
       "    }\n",
       "\n",
       "    .dataframe tbody tr th {\n",
       "        vertical-align: top;\n",
       "    }\n",
       "\n",
       "    .dataframe thead th {\n",
       "        text-align: right;\n",
       "    }\n",
       "</style>\n",
       "<table border=\"1\" class=\"dataframe\">\n",
       "  <thead>\n",
       "    <tr style=\"text-align: right;\">\n",
       "      <th></th>\n",
       "      <th>Model</th>\n",
       "      <th>Accuracy</th>\n",
       "      <th>AUC</th>\n",
       "      <th>Recall</th>\n",
       "      <th>Precision</th>\n",
       "      <th>Confusion Matrix</th>\n",
       "    </tr>\n",
       "  </thead>\n",
       "  <tbody>\n",
       "    <tr>\n",
       "      <th>0</th>\n",
       "      <td>Logistic Regression</td>\n",
       "      <td>0.82</td>\n",
       "      <td>0.84</td>\n",
       "      <td>0.75</td>\n",
       "      <td>0.19</td>\n",
       "      <td>[[5359, 1181], [93, 279]]</td>\n",
       "    </tr>\n",
       "    <tr>\n",
       "      <th>1</th>\n",
       "      <td>Tuned Logistic Regression</td>\n",
       "      <td>0.90</td>\n",
       "      <td>0.75</td>\n",
       "      <td>0.55</td>\n",
       "      <td>0.28</td>\n",
       "      <td>[[6023, 517], [169, 203]]</td>\n",
       "    </tr>\n",
       "    <tr>\n",
       "      <th>2</th>\n",
       "      <td>Random Forest</td>\n",
       "      <td>0.95</td>\n",
       "      <td>0.94</td>\n",
       "      <td>0.12</td>\n",
       "      <td>0.64</td>\n",
       "      <td>[[6515, 25], [328, 44]]</td>\n",
       "    </tr>\n",
       "    <tr>\n",
       "      <th>3</th>\n",
       "      <td>Tuned Random Forest</td>\n",
       "      <td>0.91</td>\n",
       "      <td>0.94</td>\n",
       "      <td>0.80</td>\n",
       "      <td>0.35</td>\n",
       "      <td>[[5992, 548], [73, 299]]</td>\n",
       "    </tr>\n",
       "    <tr>\n",
       "      <th>4</th>\n",
       "      <td>Neural Network</td>\n",
       "      <td>0.95</td>\n",
       "      <td>0.92</td>\n",
       "      <td>0.49</td>\n",
       "      <td>0.51</td>\n",
       "      <td>[[6364, 176], [190, 182]]</td>\n",
       "    </tr>\n",
       "  </tbody>\n",
       "</table>\n",
       "</div>"
      ],
      "text/plain": [
       "                       Model Accuracy   AUC Recall Precision  \\\n",
       "0        Logistic Regression     0.82  0.84   0.75      0.19   \n",
       "1  Tuned Logistic Regression     0.90  0.75   0.55      0.28   \n",
       "2              Random Forest     0.95  0.94   0.12      0.64   \n",
       "3        Tuned Random Forest     0.91  0.94   0.80      0.35   \n",
       "4             Neural Network     0.95  0.92   0.49      0.51   \n",
       "\n",
       "            Confusion Matrix  \n",
       "0  [[5359, 1181], [93, 279]]  \n",
       "1  [[6023, 517], [169, 203]]  \n",
       "2    [[6515, 25], [328, 44]]  \n",
       "3   [[5992, 548], [73, 299]]  \n",
       "4  [[6364, 176], [190, 182]]  "
      ]
     },
     "execution_count": 205,
     "metadata": {},
     "output_type": "execute_result"
    }
   ],
   "source": [
    "resultsDf"
   ]
  },
  {
   "cell_type": "code",
   "execution_count": null,
   "metadata": {},
   "outputs": [],
   "source": []
  },
  {
   "cell_type": "code",
   "execution_count": null,
   "metadata": {},
   "outputs": [],
   "source": []
  },
  {
   "cell_type": "code",
   "execution_count": null,
   "metadata": {},
   "outputs": [],
   "source": []
  }
 ],
 "metadata": {
  "kernelspec": {
   "display_name": "Python 3",
   "language": "python",
   "name": "python3"
  },
  "language_info": {
   "codemirror_mode": {
    "name": "ipython",
    "version": 3
   },
   "file_extension": ".py",
   "mimetype": "text/x-python",
   "name": "python",
   "nbconvert_exporter": "python",
   "pygments_lexer": "ipython3",
   "version": "3.7.3"
  }
 },
 "nbformat": 4,
 "nbformat_minor": 2
}
